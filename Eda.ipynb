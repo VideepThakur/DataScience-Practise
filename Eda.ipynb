{
 "cells": [
  {
   "cell_type": "code",
   "execution_count": 1,
   "id": "5af84bb8",
   "metadata": {},
   "outputs": [],
   "source": [
    "import pandas as pd\n",
    "import numpy as np\n",
    "import matplotlib.pyplot as plt\n",
    "import seaborn as sns"
   ]
  },
  {
   "cell_type": "code",
   "execution_count": 2,
   "id": "ac716d39",
   "metadata": {},
   "outputs": [
    {
     "data": {
      "application/vnd.microsoft.datawrangler.viewer.v0+json": {
       "columns": [
        {
         "name": "index",
         "rawType": "int64",
         "type": "integer"
        },
        {
         "name": "Unnamed: 0",
         "rawType": "int64",
         "type": "integer"
        },
        {
         "name": "Ozone",
         "rawType": "float64",
         "type": "float"
        },
        {
         "name": "Solar.R",
         "rawType": "float64",
         "type": "float"
        },
        {
         "name": "Wind",
         "rawType": "float64",
         "type": "float"
        },
        {
         "name": "Temp C",
         "rawType": "object",
         "type": "string"
        },
        {
         "name": "Month",
         "rawType": "object",
         "type": "string"
        },
        {
         "name": "Day",
         "rawType": "int64",
         "type": "integer"
        },
        {
         "name": "Year",
         "rawType": "int64",
         "type": "integer"
        },
        {
         "name": "Temp",
         "rawType": "int64",
         "type": "integer"
        },
        {
         "name": "Weather",
         "rawType": "object",
         "type": "string"
        }
       ],
       "ref": "a29fde97-6b32-4cd2-a426-841d6d32d28d",
       "rows": [
        [
         "0",
         "1",
         "41.0",
         "190.0",
         "7.4",
         "67",
         "5",
         "1",
         "2010",
         "67",
         "S"
        ],
        [
         "1",
         "2",
         "36.0",
         "118.0",
         "8.0",
         "72",
         "5",
         "2",
         "2010",
         "72",
         "C"
        ],
        [
         "2",
         "3",
         "12.0",
         "149.0",
         "12.6",
         "74",
         "5",
         "3",
         "2010",
         "74",
         "PS"
        ],
        [
         "3",
         "4",
         "18.0",
         "313.0",
         "11.5",
         "62",
         "5",
         "4",
         "2010",
         "62",
         "S"
        ],
        [
         "4",
         "5",
         null,
         null,
         "14.3",
         "56",
         "5",
         "5",
         "2010",
         "56",
         "S"
        ]
       ],
       "shape": {
        "columns": 10,
        "rows": 5
       }
      },
      "text/html": [
       "<div>\n",
       "<style scoped>\n",
       "    .dataframe tbody tr th:only-of-type {\n",
       "        vertical-align: middle;\n",
       "    }\n",
       "\n",
       "    .dataframe tbody tr th {\n",
       "        vertical-align: top;\n",
       "    }\n",
       "\n",
       "    .dataframe thead th {\n",
       "        text-align: right;\n",
       "    }\n",
       "</style>\n",
       "<table border=\"1\" class=\"dataframe\">\n",
       "  <thead>\n",
       "    <tr style=\"text-align: right;\">\n",
       "      <th></th>\n",
       "      <th>Unnamed: 0</th>\n",
       "      <th>Ozone</th>\n",
       "      <th>Solar.R</th>\n",
       "      <th>Wind</th>\n",
       "      <th>Temp C</th>\n",
       "      <th>Month</th>\n",
       "      <th>Day</th>\n",
       "      <th>Year</th>\n",
       "      <th>Temp</th>\n",
       "      <th>Weather</th>\n",
       "    </tr>\n",
       "  </thead>\n",
       "  <tbody>\n",
       "    <tr>\n",
       "      <th>0</th>\n",
       "      <td>1</td>\n",
       "      <td>41.0</td>\n",
       "      <td>190.0</td>\n",
       "      <td>7.4</td>\n",
       "      <td>67</td>\n",
       "      <td>5</td>\n",
       "      <td>1</td>\n",
       "      <td>2010</td>\n",
       "      <td>67</td>\n",
       "      <td>S</td>\n",
       "    </tr>\n",
       "    <tr>\n",
       "      <th>1</th>\n",
       "      <td>2</td>\n",
       "      <td>36.0</td>\n",
       "      <td>118.0</td>\n",
       "      <td>8.0</td>\n",
       "      <td>72</td>\n",
       "      <td>5</td>\n",
       "      <td>2</td>\n",
       "      <td>2010</td>\n",
       "      <td>72</td>\n",
       "      <td>C</td>\n",
       "    </tr>\n",
       "    <tr>\n",
       "      <th>2</th>\n",
       "      <td>3</td>\n",
       "      <td>12.0</td>\n",
       "      <td>149.0</td>\n",
       "      <td>12.6</td>\n",
       "      <td>74</td>\n",
       "      <td>5</td>\n",
       "      <td>3</td>\n",
       "      <td>2010</td>\n",
       "      <td>74</td>\n",
       "      <td>PS</td>\n",
       "    </tr>\n",
       "    <tr>\n",
       "      <th>3</th>\n",
       "      <td>4</td>\n",
       "      <td>18.0</td>\n",
       "      <td>313.0</td>\n",
       "      <td>11.5</td>\n",
       "      <td>62</td>\n",
       "      <td>5</td>\n",
       "      <td>4</td>\n",
       "      <td>2010</td>\n",
       "      <td>62</td>\n",
       "      <td>S</td>\n",
       "    </tr>\n",
       "    <tr>\n",
       "      <th>4</th>\n",
       "      <td>5</td>\n",
       "      <td>NaN</td>\n",
       "      <td>NaN</td>\n",
       "      <td>14.3</td>\n",
       "      <td>56</td>\n",
       "      <td>5</td>\n",
       "      <td>5</td>\n",
       "      <td>2010</td>\n",
       "      <td>56</td>\n",
       "      <td>S</td>\n",
       "    </tr>\n",
       "  </tbody>\n",
       "</table>\n",
       "</div>"
      ],
      "text/plain": [
       "   Unnamed: 0  Ozone  Solar.R  Wind Temp C Month  Day  Year  Temp Weather\n",
       "0           1   41.0    190.0   7.4     67     5    1  2010    67       S\n",
       "1           2   36.0    118.0   8.0     72     5    2  2010    72       C\n",
       "2           3   12.0    149.0  12.6     74     5    3  2010    74      PS\n",
       "3           4   18.0    313.0  11.5     62     5    4  2010    62       S\n",
       "4           5    NaN      NaN  14.3     56     5    5  2010    56       S"
      ]
     },
     "execution_count": 2,
     "metadata": {},
     "output_type": "execute_result"
    }
   ],
   "source": [
    "path = \"Data\\Weather Quality.csv\"\n",
    "data = pd.read_csv(path)\n",
    "data.head(5)"
   ]
  },
  {
   "cell_type": "code",
   "execution_count": 3,
   "id": "42933c75",
   "metadata": {},
   "outputs": [
    {
     "data": {
      "application/vnd.microsoft.datawrangler.viewer.v0+json": {
       "columns": [
        {
         "name": "index",
         "rawType": "int64",
         "type": "integer"
        },
        {
         "name": "Ozone",
         "rawType": "float64",
         "type": "float"
        },
        {
         "name": "Solar.R",
         "rawType": "float64",
         "type": "float"
        },
        {
         "name": "Wind",
         "rawType": "float64",
         "type": "float"
        },
        {
         "name": "Temp C",
         "rawType": "object",
         "type": "string"
        },
        {
         "name": "Month",
         "rawType": "object",
         "type": "string"
        },
        {
         "name": "Day",
         "rawType": "int64",
         "type": "integer"
        },
        {
         "name": "Year",
         "rawType": "int64",
         "type": "integer"
        },
        {
         "name": "Temp",
         "rawType": "int64",
         "type": "integer"
        },
        {
         "name": "Weather",
         "rawType": "object",
         "type": "unknown"
        }
       ],
       "ref": "1df77abb-b193-4cb4-88cc-407426b9a903",
       "rows": [
        [
         "0",
         "41.0",
         "190.0",
         "7.4",
         "67",
         "5",
         "1",
         "2010",
         "67",
         "S"
        ],
        [
         "1",
         "36.0",
         "118.0",
         "8.0",
         "72",
         "5",
         "2",
         "2010",
         "72",
         "C"
        ],
        [
         "2",
         "12.0",
         "149.0",
         "12.6",
         "74",
         "5",
         "3",
         "2010",
         "74",
         "PS"
        ],
        [
         "3",
         "18.0",
         "313.0",
         "11.5",
         "62",
         "5",
         "4",
         "2010",
         "62",
         "S"
        ],
        [
         "4",
         null,
         null,
         "14.3",
         "56",
         "5",
         "5",
         "2010",
         "56",
         "S"
        ],
        [
         "5",
         "28.0",
         null,
         "14.9",
         "66",
         "5",
         "6",
         "2010",
         "66",
         "C"
        ],
        [
         "6",
         "23.0",
         "299.0",
         "8.6",
         "65",
         "5",
         "7",
         "2010",
         "65",
         "PS"
        ],
        [
         "7",
         "19.0",
         "99.0",
         "13.8",
         "59",
         "5",
         "8",
         "2010",
         "59",
         "C"
        ],
        [
         "8",
         "8.0",
         "19.0",
         "20.1",
         "61",
         "5",
         "9",
         "2010",
         "61",
         "PS"
        ],
        [
         "9",
         null,
         "194.0",
         "8.6",
         "69",
         "5",
         "10",
         "2010",
         "69",
         "S"
        ],
        [
         "10",
         "7.0",
         null,
         "6.9",
         "C",
         "5",
         "11",
         "2010",
         "74",
         "C"
        ],
        [
         "11",
         "16.0",
         "256.0",
         "9.7",
         "69",
         "5",
         "12",
         "2010",
         "69",
         "PS"
        ],
        [
         "12",
         "11.0",
         "290.0",
         "9.2",
         "66",
         "5",
         "13",
         "2010",
         "66",
         "S"
        ],
        [
         "13",
         "14.0",
         "274.0",
         "10.9",
         "68",
         "5",
         "14",
         "2010",
         "68",
         "S"
        ],
        [
         "14",
         "18.0",
         "65.0",
         "13.2",
         "58",
         "5",
         "15",
         "2010",
         "58",
         "C"
        ],
        [
         "15",
         "14.0",
         "334.0",
         "11.5",
         "64",
         "5",
         "16",
         "2010",
         "64",
         "S"
        ],
        [
         "16",
         "34.0",
         "307.0",
         "12.0",
         "66",
         "5",
         "17",
         "2010",
         "66",
         "S"
        ],
        [
         "17",
         "6.0",
         "78.0",
         "18.4",
         "57",
         "5",
         "18",
         "2010",
         "57",
         "C"
        ],
        [
         "18",
         "30.0",
         "322.0",
         "11.5",
         "68",
         "5",
         "19",
         "2010",
         "68",
         "PS"
        ],
        [
         "19",
         "11.0",
         "44.0",
         "9.7",
         "62",
         "5",
         "20",
         "2010",
         "62",
         "S"
        ],
        [
         "20",
         "1.0",
         "8.0",
         "9.7",
         "59",
         "5",
         "21",
         "2010",
         "59",
         "S"
        ],
        [
         "21",
         "11.0",
         "320.0",
         "16.6",
         "73",
         "5",
         "22",
         "2010",
         "73",
         "C"
        ],
        [
         "22",
         "4.0",
         "25.0",
         "9.7",
         "61",
         "5",
         "23",
         "2010",
         "61",
         "PS"
        ],
        [
         "23",
         "32.0",
         "92.0",
         "12.0",
         "61",
         "May",
         "24",
         "2010",
         "61",
         "C"
        ],
        [
         "24",
         null,
         "66.0",
         "16.6",
         "57",
         "5",
         "25",
         "2010",
         "57",
         "PS"
        ],
        [
         "25",
         null,
         "266.0",
         "14.9",
         "58",
         "5",
         "26",
         "2010",
         "58",
         "C"
        ],
        [
         "26",
         null,
         null,
         "8.0",
         "57",
         "5",
         "27",
         "2010",
         "57",
         "PS"
        ],
        [
         "27",
         "23.0",
         "13.0",
         "12.0",
         "67",
         "5",
         "28",
         "2010",
         "67",
         "S"
        ],
        [
         "28",
         "45.0",
         "252.0",
         "14.9",
         "81",
         "5",
         "29",
         "2010",
         "81",
         "S"
        ],
        [
         "29",
         "115.0",
         "223.0",
         "5.7",
         "79",
         "5",
         "30",
         "2010",
         "79",
         "C"
        ],
        [
         "30",
         "37.0",
         "279.0",
         "7.4",
         "76",
         "5",
         "31",
         "2010",
         "76",
         "PS"
        ],
        [
         "31",
         null,
         "286.0",
         "8.6",
         "78",
         "6",
         "1",
         "2010",
         "78",
         "S"
        ],
        [
         "32",
         null,
         "287.0",
         "9.7",
         "74",
         "6",
         "2",
         "2010",
         "74",
         "C"
        ],
        [
         "33",
         null,
         "242.0",
         "16.1",
         "67",
         "6",
         "3",
         "2010",
         "67",
         "PS"
        ],
        [
         "34",
         null,
         "186.0",
         "9.2",
         "84",
         "6",
         "4",
         "2010",
         "84",
         "C"
        ],
        [
         "35",
         null,
         "220.0",
         "8.6",
         "85",
         "6",
         "5",
         "2010",
         "85",
         "PS"
        ],
        [
         "36",
         null,
         "264.0",
         "14.3",
         "79",
         "6",
         "6",
         "2010",
         "79",
         "C"
        ],
        [
         "37",
         "29.0",
         "127.0",
         "9.7",
         "82",
         "6",
         "7",
         "2010",
         "82",
         "PS"
        ],
        [
         "38",
         null,
         "273.0",
         "6.9",
         "87",
         "6",
         "8",
         "2010",
         "87",
         "S"
        ],
        [
         "39",
         "71.0",
         "291.0",
         "13.8",
         "90",
         "6",
         "9",
         "2010",
         "90",
         "S"
        ],
        [
         "40",
         "39.0",
         "323.0",
         "11.5",
         "87",
         "6",
         "10",
         "2010",
         "87",
         "S"
        ],
        [
         "41",
         null,
         "259.0",
         "10.9",
         "93",
         "6",
         "11",
         "2010",
         "93",
         "C"
        ],
        [
         "42",
         null,
         "250.0",
         "9.2",
         "92",
         "6",
         "12",
         "2010",
         "92",
         "PS"
        ],
        [
         "43",
         "23.0",
         "148.0",
         "8.0",
         "82",
         "6",
         "13",
         "2010",
         "82",
         "S"
        ],
        [
         "44",
         null,
         "332.0",
         "13.8",
         "80",
         "6",
         "14",
         "2010",
         "80",
         "S"
        ],
        [
         "45",
         null,
         "322.0",
         "11.5",
         "79",
         "6",
         "15",
         "2010",
         "79",
         "C"
        ],
        [
         "46",
         "21.0",
         "191.0",
         "14.9",
         "77",
         "6",
         "16",
         "2010",
         "77",
         "PS"
        ],
        [
         "47",
         "37.0",
         "284.0",
         "20.7",
         "72",
         "6",
         "17",
         "2010",
         "72",
         "C"
        ],
        [
         "48",
         "20.0",
         "37.0",
         "9.2",
         "65",
         "6",
         "18",
         "2010",
         "65",
         "PS"
        ],
        [
         "49",
         "12.0",
         "120.0",
         "11.5",
         "73",
         "6",
         "19",
         "2010",
         "73",
         "S"
        ]
       ],
       "shape": {
        "columns": 9,
        "rows": 158
       }
      },
      "text/html": [
       "<div>\n",
       "<style scoped>\n",
       "    .dataframe tbody tr th:only-of-type {\n",
       "        vertical-align: middle;\n",
       "    }\n",
       "\n",
       "    .dataframe tbody tr th {\n",
       "        vertical-align: top;\n",
       "    }\n",
       "\n",
       "    .dataframe thead th {\n",
       "        text-align: right;\n",
       "    }\n",
       "</style>\n",
       "<table border=\"1\" class=\"dataframe\">\n",
       "  <thead>\n",
       "    <tr style=\"text-align: right;\">\n",
       "      <th></th>\n",
       "      <th>Ozone</th>\n",
       "      <th>Solar.R</th>\n",
       "      <th>Wind</th>\n",
       "      <th>Temp C</th>\n",
       "      <th>Month</th>\n",
       "      <th>Day</th>\n",
       "      <th>Year</th>\n",
       "      <th>Temp</th>\n",
       "      <th>Weather</th>\n",
       "    </tr>\n",
       "  </thead>\n",
       "  <tbody>\n",
       "    <tr>\n",
       "      <th>0</th>\n",
       "      <td>41.0</td>\n",
       "      <td>190.0</td>\n",
       "      <td>7.4</td>\n",
       "      <td>67</td>\n",
       "      <td>5</td>\n",
       "      <td>1</td>\n",
       "      <td>2010</td>\n",
       "      <td>67</td>\n",
       "      <td>S</td>\n",
       "    </tr>\n",
       "    <tr>\n",
       "      <th>1</th>\n",
       "      <td>36.0</td>\n",
       "      <td>118.0</td>\n",
       "      <td>8.0</td>\n",
       "      <td>72</td>\n",
       "      <td>5</td>\n",
       "      <td>2</td>\n",
       "      <td>2010</td>\n",
       "      <td>72</td>\n",
       "      <td>C</td>\n",
       "    </tr>\n",
       "    <tr>\n",
       "      <th>2</th>\n",
       "      <td>12.0</td>\n",
       "      <td>149.0</td>\n",
       "      <td>12.6</td>\n",
       "      <td>74</td>\n",
       "      <td>5</td>\n",
       "      <td>3</td>\n",
       "      <td>2010</td>\n",
       "      <td>74</td>\n",
       "      <td>PS</td>\n",
       "    </tr>\n",
       "    <tr>\n",
       "      <th>3</th>\n",
       "      <td>18.0</td>\n",
       "      <td>313.0</td>\n",
       "      <td>11.5</td>\n",
       "      <td>62</td>\n",
       "      <td>5</td>\n",
       "      <td>4</td>\n",
       "      <td>2010</td>\n",
       "      <td>62</td>\n",
       "      <td>S</td>\n",
       "    </tr>\n",
       "    <tr>\n",
       "      <th>4</th>\n",
       "      <td>NaN</td>\n",
       "      <td>NaN</td>\n",
       "      <td>14.3</td>\n",
       "      <td>56</td>\n",
       "      <td>5</td>\n",
       "      <td>5</td>\n",
       "      <td>2010</td>\n",
       "      <td>56</td>\n",
       "      <td>S</td>\n",
       "    </tr>\n",
       "    <tr>\n",
       "      <th>...</th>\n",
       "      <td>...</td>\n",
       "      <td>...</td>\n",
       "      <td>...</td>\n",
       "      <td>...</td>\n",
       "      <td>...</td>\n",
       "      <td>...</td>\n",
       "      <td>...</td>\n",
       "      <td>...</td>\n",
       "      <td>...</td>\n",
       "    </tr>\n",
       "    <tr>\n",
       "      <th>153</th>\n",
       "      <td>41.0</td>\n",
       "      <td>190.0</td>\n",
       "      <td>7.4</td>\n",
       "      <td>67</td>\n",
       "      <td>5</td>\n",
       "      <td>1</td>\n",
       "      <td>2010</td>\n",
       "      <td>67</td>\n",
       "      <td>C</td>\n",
       "    </tr>\n",
       "    <tr>\n",
       "      <th>154</th>\n",
       "      <td>30.0</td>\n",
       "      <td>193.0</td>\n",
       "      <td>6.9</td>\n",
       "      <td>70</td>\n",
       "      <td>9</td>\n",
       "      <td>26</td>\n",
       "      <td>2010</td>\n",
       "      <td>70</td>\n",
       "      <td>PS</td>\n",
       "    </tr>\n",
       "    <tr>\n",
       "      <th>155</th>\n",
       "      <td>NaN</td>\n",
       "      <td>145.0</td>\n",
       "      <td>13.2</td>\n",
       "      <td>77</td>\n",
       "      <td>9</td>\n",
       "      <td>27</td>\n",
       "      <td>2010</td>\n",
       "      <td>77</td>\n",
       "      <td>S</td>\n",
       "    </tr>\n",
       "    <tr>\n",
       "      <th>156</th>\n",
       "      <td>14.0</td>\n",
       "      <td>191.0</td>\n",
       "      <td>14.3</td>\n",
       "      <td>75</td>\n",
       "      <td>9</td>\n",
       "      <td>28</td>\n",
       "      <td>2010</td>\n",
       "      <td>75</td>\n",
       "      <td>S</td>\n",
       "    </tr>\n",
       "    <tr>\n",
       "      <th>157</th>\n",
       "      <td>18.0</td>\n",
       "      <td>131.0</td>\n",
       "      <td>8.0</td>\n",
       "      <td>76</td>\n",
       "      <td>9</td>\n",
       "      <td>29</td>\n",
       "      <td>2010</td>\n",
       "      <td>76</td>\n",
       "      <td>C</td>\n",
       "    </tr>\n",
       "  </tbody>\n",
       "</table>\n",
       "<p>158 rows × 9 columns</p>\n",
       "</div>"
      ],
      "text/plain": [
       "     Ozone  Solar.R  Wind Temp C Month  Day  Year  Temp Weather\n",
       "0     41.0    190.0   7.4     67     5    1  2010    67       S\n",
       "1     36.0    118.0   8.0     72     5    2  2010    72       C\n",
       "2     12.0    149.0  12.6     74     5    3  2010    74      PS\n",
       "3     18.0    313.0  11.5     62     5    4  2010    62       S\n",
       "4      NaN      NaN  14.3     56     5    5  2010    56       S\n",
       "..     ...      ...   ...    ...   ...  ...   ...   ...     ...\n",
       "153   41.0    190.0   7.4     67     5    1  2010    67       C\n",
       "154   30.0    193.0   6.9     70     9   26  2010    70      PS\n",
       "155    NaN    145.0  13.2     77     9   27  2010    77       S\n",
       "156   14.0    191.0  14.3     75     9   28  2010    75       S\n",
       "157   18.0    131.0   8.0     76     9   29  2010    76       C\n",
       "\n",
       "[158 rows x 9 columns]"
      ]
     },
     "execution_count": 3,
     "metadata": {},
     "output_type": "execute_result"
    }
   ],
   "source": [
    "data.drop(data.columns[0],inplace=True,axis=1)\n",
    "data"
   ]
  },
  {
   "cell_type": "code",
   "execution_count": 4,
   "id": "b091d3a9",
   "metadata": {},
   "outputs": [
    {
     "name": "stdout",
     "output_type": "stream",
     "text": [
      "<class 'pandas.core.frame.DataFrame'>\n",
      "RangeIndex: 158 entries, 0 to 157\n",
      "Data columns (total 9 columns):\n",
      " #   Column   Non-Null Count  Dtype  \n",
      "---  ------   --------------  -----  \n",
      " 0   Ozone    120 non-null    float64\n",
      " 1   Solar.R  151 non-null    float64\n",
      " 2   Wind     158 non-null    float64\n",
      " 3   Temp C   158 non-null    object \n",
      " 4   Month    158 non-null    object \n",
      " 5   Day      158 non-null    int64  \n",
      " 6   Year     158 non-null    int64  \n",
      " 7   Temp     158 non-null    int64  \n",
      " 8   Weather  155 non-null    object \n",
      "dtypes: float64(3), int64(3), object(3)\n",
      "memory usage: 11.2+ KB\n"
     ]
    }
   ],
   "source": [
    "data.info()"
   ]
  },
  {
   "cell_type": "code",
   "execution_count": 5,
   "id": "36a04f65",
   "metadata": {},
   "outputs": [],
   "source": [
    "data.rename(columns={'Solar.R':'Solar'},inplace=True)"
   ]
  },
  {
   "cell_type": "code",
   "execution_count": 6,
   "id": "d1812fbd",
   "metadata": {},
   "outputs": [
    {
     "name": "stdout",
     "output_type": "stream",
     "text": [
      "<class 'pandas.core.frame.DataFrame'>\n",
      "RangeIndex: 158 entries, 0 to 157\n",
      "Data columns (total 9 columns):\n",
      " #   Column   Non-Null Count  Dtype  \n",
      "---  ------   --------------  -----  \n",
      " 0   Ozone    120 non-null    float64\n",
      " 1   Solar    151 non-null    float64\n",
      " 2   Wind     158 non-null    float64\n",
      " 3   Temp C   158 non-null    object \n",
      " 4   Month    158 non-null    object \n",
      " 5   Day      158 non-null    int64  \n",
      " 6   Year     158 non-null    int64  \n",
      " 7   Temp     158 non-null    int64  \n",
      " 8   Weather  155 non-null    object \n",
      "dtypes: float64(3), int64(3), object(3)\n",
      "memory usage: 11.2+ KB\n"
     ]
    }
   ],
   "source": [
    "data.info()"
   ]
  },
  {
   "cell_type": "code",
   "execution_count": 7,
   "id": "8dd50626",
   "metadata": {},
   "outputs": [
    {
     "data": {
      "application/vnd.microsoft.datawrangler.viewer.v0+json": {
       "columns": [
        {
         "name": "index",
         "rawType": "int64",
         "type": "integer"
        },
        {
         "name": "Ozone",
         "rawType": "float64",
         "type": "float"
        },
        {
         "name": "Solar",
         "rawType": "float64",
         "type": "float"
        },
        {
         "name": "Wind",
         "rawType": "float64",
         "type": "float"
        },
        {
         "name": "Temp C",
         "rawType": "object",
         "type": "string"
        },
        {
         "name": "Month",
         "rawType": "object",
         "type": "string"
        },
        {
         "name": "Day",
         "rawType": "int64",
         "type": "integer"
        },
        {
         "name": "Year",
         "rawType": "int64",
         "type": "integer"
        },
        {
         "name": "Temp",
         "rawType": "int64",
         "type": "integer"
        },
        {
         "name": "Weather",
         "rawType": "object",
         "type": "unknown"
        }
       ],
       "ref": "20e450fe-0875-4ebd-9e21-b6c3e2aceab5",
       "rows": [
        [
         "0",
         "41.0",
         "190.0",
         "7.4",
         "67",
         "5",
         "1",
         "2010",
         "67",
         "S"
        ],
        [
         "1",
         "36.0",
         "118.0",
         "8.0",
         "72",
         "5",
         "2",
         "2010",
         "72",
         "C"
        ],
        [
         "2",
         "12.0",
         "149.0",
         "12.6",
         "74",
         "5",
         "3",
         "2010",
         "74",
         "PS"
        ],
        [
         "3",
         "18.0",
         "313.0",
         "11.5",
         "62",
         "5",
         "4",
         "2010",
         "62",
         "S"
        ],
        [
         "4",
         null,
         null,
         "14.3",
         "56",
         "5",
         "5",
         "2010",
         "56",
         "S"
        ],
        [
         "5",
         "28.0",
         null,
         "14.9",
         "66",
         "5",
         "6",
         "2010",
         "66",
         "C"
        ],
        [
         "6",
         "23.0",
         "299.0",
         "8.6",
         "65",
         "5",
         "7",
         "2010",
         "65",
         "PS"
        ],
        [
         "7",
         "19.0",
         "99.0",
         "13.8",
         "59",
         "5",
         "8",
         "2010",
         "59",
         "C"
        ],
        [
         "8",
         "8.0",
         "19.0",
         "20.1",
         "61",
         "5",
         "9",
         "2010",
         "61",
         "PS"
        ],
        [
         "9",
         null,
         "194.0",
         "8.6",
         "69",
         "5",
         "10",
         "2010",
         "69",
         "S"
        ],
        [
         "10",
         "7.0",
         null,
         "6.9",
         "C",
         "5",
         "11",
         "2010",
         "74",
         "C"
        ],
        [
         "11",
         "16.0",
         "256.0",
         "9.7",
         "69",
         "5",
         "12",
         "2010",
         "69",
         "PS"
        ],
        [
         "12",
         "11.0",
         "290.0",
         "9.2",
         "66",
         "5",
         "13",
         "2010",
         "66",
         "S"
        ],
        [
         "13",
         "14.0",
         "274.0",
         "10.9",
         "68",
         "5",
         "14",
         "2010",
         "68",
         "S"
        ],
        [
         "14",
         "18.0",
         "65.0",
         "13.2",
         "58",
         "5",
         "15",
         "2010",
         "58",
         "C"
        ],
        [
         "15",
         "14.0",
         "334.0",
         "11.5",
         "64",
         "5",
         "16",
         "2010",
         "64",
         "S"
        ],
        [
         "16",
         "34.0",
         "307.0",
         "12.0",
         "66",
         "5",
         "17",
         "2010",
         "66",
         "S"
        ],
        [
         "17",
         "6.0",
         "78.0",
         "18.4",
         "57",
         "5",
         "18",
         "2010",
         "57",
         "C"
        ],
        [
         "18",
         "30.0",
         "322.0",
         "11.5",
         "68",
         "5",
         "19",
         "2010",
         "68",
         "PS"
        ],
        [
         "19",
         "11.0",
         "44.0",
         "9.7",
         "62",
         "5",
         "20",
         "2010",
         "62",
         "S"
        ],
        [
         "20",
         "1.0",
         "8.0",
         "9.7",
         "59",
         "5",
         "21",
         "2010",
         "59",
         "S"
        ],
        [
         "21",
         "11.0",
         "320.0",
         "16.6",
         "73",
         "5",
         "22",
         "2010",
         "73",
         "C"
        ],
        [
         "22",
         "4.0",
         "25.0",
         "9.7",
         "61",
         "5",
         "23",
         "2010",
         "61",
         "PS"
        ],
        [
         "23",
         "32.0",
         "92.0",
         "12.0",
         "61",
         "May",
         "24",
         "2010",
         "61",
         "C"
        ],
        [
         "24",
         null,
         "66.0",
         "16.6",
         "57",
         "5",
         "25",
         "2010",
         "57",
         "PS"
        ],
        [
         "25",
         null,
         "266.0",
         "14.9",
         "58",
         "5",
         "26",
         "2010",
         "58",
         "C"
        ],
        [
         "26",
         null,
         null,
         "8.0",
         "57",
         "5",
         "27",
         "2010",
         "57",
         "PS"
        ],
        [
         "27",
         "23.0",
         "13.0",
         "12.0",
         "67",
         "5",
         "28",
         "2010",
         "67",
         "S"
        ],
        [
         "28",
         "45.0",
         "252.0",
         "14.9",
         "81",
         "5",
         "29",
         "2010",
         "81",
         "S"
        ],
        [
         "29",
         "115.0",
         "223.0",
         "5.7",
         "79",
         "5",
         "30",
         "2010",
         "79",
         "C"
        ],
        [
         "30",
         "37.0",
         "279.0",
         "7.4",
         "76",
         "5",
         "31",
         "2010",
         "76",
         "PS"
        ],
        [
         "31",
         null,
         "286.0",
         "8.6",
         "78",
         "6",
         "1",
         "2010",
         "78",
         "S"
        ],
        [
         "32",
         null,
         "287.0",
         "9.7",
         "74",
         "6",
         "2",
         "2010",
         "74",
         "C"
        ],
        [
         "33",
         null,
         "242.0",
         "16.1",
         "67",
         "6",
         "3",
         "2010",
         "67",
         "PS"
        ],
        [
         "34",
         null,
         "186.0",
         "9.2",
         "84",
         "6",
         "4",
         "2010",
         "84",
         "C"
        ],
        [
         "35",
         null,
         "220.0",
         "8.6",
         "85",
         "6",
         "5",
         "2010",
         "85",
         "PS"
        ],
        [
         "36",
         null,
         "264.0",
         "14.3",
         "79",
         "6",
         "6",
         "2010",
         "79",
         "C"
        ],
        [
         "37",
         "29.0",
         "127.0",
         "9.7",
         "82",
         "6",
         "7",
         "2010",
         "82",
         "PS"
        ],
        [
         "38",
         null,
         "273.0",
         "6.9",
         "87",
         "6",
         "8",
         "2010",
         "87",
         "S"
        ],
        [
         "39",
         "71.0",
         "291.0",
         "13.8",
         "90",
         "6",
         "9",
         "2010",
         "90",
         "S"
        ],
        [
         "40",
         "39.0",
         "323.0",
         "11.5",
         "87",
         "6",
         "10",
         "2010",
         "87",
         "S"
        ],
        [
         "41",
         null,
         "259.0",
         "10.9",
         "93",
         "6",
         "11",
         "2010",
         "93",
         "C"
        ],
        [
         "42",
         null,
         "250.0",
         "9.2",
         "92",
         "6",
         "12",
         "2010",
         "92",
         "PS"
        ],
        [
         "43",
         "23.0",
         "148.0",
         "8.0",
         "82",
         "6",
         "13",
         "2010",
         "82",
         "S"
        ],
        [
         "44",
         null,
         "332.0",
         "13.8",
         "80",
         "6",
         "14",
         "2010",
         "80",
         "S"
        ],
        [
         "45",
         null,
         "322.0",
         "11.5",
         "79",
         "6",
         "15",
         "2010",
         "79",
         "C"
        ],
        [
         "46",
         "21.0",
         "191.0",
         "14.9",
         "77",
         "6",
         "16",
         "2010",
         "77",
         "PS"
        ],
        [
         "47",
         "37.0",
         "284.0",
         "20.7",
         "72",
         "6",
         "17",
         "2010",
         "72",
         "C"
        ],
        [
         "48",
         "20.0",
         "37.0",
         "9.2",
         "65",
         "6",
         "18",
         "2010",
         "65",
         "PS"
        ],
        [
         "49",
         "12.0",
         "120.0",
         "11.5",
         "73",
         "6",
         "19",
         "2010",
         "73",
         "S"
        ]
       ],
       "shape": {
        "columns": 9,
        "rows": 158
       }
      },
      "text/html": [
       "<div>\n",
       "<style scoped>\n",
       "    .dataframe tbody tr th:only-of-type {\n",
       "        vertical-align: middle;\n",
       "    }\n",
       "\n",
       "    .dataframe tbody tr th {\n",
       "        vertical-align: top;\n",
       "    }\n",
       "\n",
       "    .dataframe thead th {\n",
       "        text-align: right;\n",
       "    }\n",
       "</style>\n",
       "<table border=\"1\" class=\"dataframe\">\n",
       "  <thead>\n",
       "    <tr style=\"text-align: right;\">\n",
       "      <th></th>\n",
       "      <th>Ozone</th>\n",
       "      <th>Solar</th>\n",
       "      <th>Wind</th>\n",
       "      <th>Temp C</th>\n",
       "      <th>Month</th>\n",
       "      <th>Day</th>\n",
       "      <th>Year</th>\n",
       "      <th>Temp</th>\n",
       "      <th>Weather</th>\n",
       "    </tr>\n",
       "  </thead>\n",
       "  <tbody>\n",
       "    <tr>\n",
       "      <th>0</th>\n",
       "      <td>41.0</td>\n",
       "      <td>190.0</td>\n",
       "      <td>7.4</td>\n",
       "      <td>67</td>\n",
       "      <td>5</td>\n",
       "      <td>1</td>\n",
       "      <td>2010</td>\n",
       "      <td>67</td>\n",
       "      <td>S</td>\n",
       "    </tr>\n",
       "    <tr>\n",
       "      <th>1</th>\n",
       "      <td>36.0</td>\n",
       "      <td>118.0</td>\n",
       "      <td>8.0</td>\n",
       "      <td>72</td>\n",
       "      <td>5</td>\n",
       "      <td>2</td>\n",
       "      <td>2010</td>\n",
       "      <td>72</td>\n",
       "      <td>C</td>\n",
       "    </tr>\n",
       "    <tr>\n",
       "      <th>2</th>\n",
       "      <td>12.0</td>\n",
       "      <td>149.0</td>\n",
       "      <td>12.6</td>\n",
       "      <td>74</td>\n",
       "      <td>5</td>\n",
       "      <td>3</td>\n",
       "      <td>2010</td>\n",
       "      <td>74</td>\n",
       "      <td>PS</td>\n",
       "    </tr>\n",
       "    <tr>\n",
       "      <th>3</th>\n",
       "      <td>18.0</td>\n",
       "      <td>313.0</td>\n",
       "      <td>11.5</td>\n",
       "      <td>62</td>\n",
       "      <td>5</td>\n",
       "      <td>4</td>\n",
       "      <td>2010</td>\n",
       "      <td>62</td>\n",
       "      <td>S</td>\n",
       "    </tr>\n",
       "    <tr>\n",
       "      <th>4</th>\n",
       "      <td>NaN</td>\n",
       "      <td>NaN</td>\n",
       "      <td>14.3</td>\n",
       "      <td>56</td>\n",
       "      <td>5</td>\n",
       "      <td>5</td>\n",
       "      <td>2010</td>\n",
       "      <td>56</td>\n",
       "      <td>S</td>\n",
       "    </tr>\n",
       "    <tr>\n",
       "      <th>...</th>\n",
       "      <td>...</td>\n",
       "      <td>...</td>\n",
       "      <td>...</td>\n",
       "      <td>...</td>\n",
       "      <td>...</td>\n",
       "      <td>...</td>\n",
       "      <td>...</td>\n",
       "      <td>...</td>\n",
       "      <td>...</td>\n",
       "    </tr>\n",
       "    <tr>\n",
       "      <th>153</th>\n",
       "      <td>41.0</td>\n",
       "      <td>190.0</td>\n",
       "      <td>7.4</td>\n",
       "      <td>67</td>\n",
       "      <td>5</td>\n",
       "      <td>1</td>\n",
       "      <td>2010</td>\n",
       "      <td>67</td>\n",
       "      <td>C</td>\n",
       "    </tr>\n",
       "    <tr>\n",
       "      <th>154</th>\n",
       "      <td>30.0</td>\n",
       "      <td>193.0</td>\n",
       "      <td>6.9</td>\n",
       "      <td>70</td>\n",
       "      <td>9</td>\n",
       "      <td>26</td>\n",
       "      <td>2010</td>\n",
       "      <td>70</td>\n",
       "      <td>PS</td>\n",
       "    </tr>\n",
       "    <tr>\n",
       "      <th>155</th>\n",
       "      <td>NaN</td>\n",
       "      <td>145.0</td>\n",
       "      <td>13.2</td>\n",
       "      <td>77</td>\n",
       "      <td>9</td>\n",
       "      <td>27</td>\n",
       "      <td>2010</td>\n",
       "      <td>77</td>\n",
       "      <td>S</td>\n",
       "    </tr>\n",
       "    <tr>\n",
       "      <th>156</th>\n",
       "      <td>14.0</td>\n",
       "      <td>191.0</td>\n",
       "      <td>14.3</td>\n",
       "      <td>75</td>\n",
       "      <td>9</td>\n",
       "      <td>28</td>\n",
       "      <td>2010</td>\n",
       "      <td>75</td>\n",
       "      <td>S</td>\n",
       "    </tr>\n",
       "    <tr>\n",
       "      <th>157</th>\n",
       "      <td>18.0</td>\n",
       "      <td>131.0</td>\n",
       "      <td>8.0</td>\n",
       "      <td>76</td>\n",
       "      <td>9</td>\n",
       "      <td>29</td>\n",
       "      <td>2010</td>\n",
       "      <td>76</td>\n",
       "      <td>C</td>\n",
       "    </tr>\n",
       "  </tbody>\n",
       "</table>\n",
       "<p>158 rows × 9 columns</p>\n",
       "</div>"
      ],
      "text/plain": [
       "     Ozone  Solar  Wind Temp C Month  Day  Year  Temp Weather\n",
       "0     41.0  190.0   7.4     67     5    1  2010    67       S\n",
       "1     36.0  118.0   8.0     72     5    2  2010    72       C\n",
       "2     12.0  149.0  12.6     74     5    3  2010    74      PS\n",
       "3     18.0  313.0  11.5     62     5    4  2010    62       S\n",
       "4      NaN    NaN  14.3     56     5    5  2010    56       S\n",
       "..     ...    ...   ...    ...   ...  ...   ...   ...     ...\n",
       "153   41.0  190.0   7.4     67     5    1  2010    67       C\n",
       "154   30.0  193.0   6.9     70     9   26  2010    70      PS\n",
       "155    NaN  145.0  13.2     77     9   27  2010    77       S\n",
       "156   14.0  191.0  14.3     75     9   28  2010    75       S\n",
       "157   18.0  131.0   8.0     76     9   29  2010    76       C\n",
       "\n",
       "[158 rows x 9 columns]"
      ]
     },
     "execution_count": 7,
     "metadata": {},
     "output_type": "execute_result"
    }
   ],
   "source": [
    "data"
   ]
  },
  {
   "cell_type": "code",
   "execution_count": 8,
   "id": "65ebf2db",
   "metadata": {},
   "outputs": [],
   "source": [
    "data.drop(\"Temp C\",axis=1,inplace=True)"
   ]
  },
  {
   "cell_type": "code",
   "execution_count": 9,
   "id": "cddeaf01",
   "metadata": {},
   "outputs": [
    {
     "data": {
      "application/vnd.microsoft.datawrangler.viewer.v0+json": {
       "columns": [
        {
         "name": "index",
         "rawType": "int64",
         "type": "integer"
        },
        {
         "name": "Ozone",
         "rawType": "float64",
         "type": "float"
        },
        {
         "name": "Solar",
         "rawType": "float64",
         "type": "float"
        },
        {
         "name": "Wind",
         "rawType": "float64",
         "type": "float"
        },
        {
         "name": "Month",
         "rawType": "object",
         "type": "string"
        },
        {
         "name": "Day",
         "rawType": "int64",
         "type": "integer"
        },
        {
         "name": "Year",
         "rawType": "int64",
         "type": "integer"
        },
        {
         "name": "Temp",
         "rawType": "int64",
         "type": "integer"
        },
        {
         "name": "Weather",
         "rawType": "object",
         "type": "unknown"
        }
       ],
       "ref": "4208ff43-0eea-4f68-8d56-2c6cd47d0eec",
       "rows": [
        [
         "0",
         "41.0",
         "190.0",
         "7.4",
         "5",
         "1",
         "2010",
         "67",
         "S"
        ],
        [
         "1",
         "36.0",
         "118.0",
         "8.0",
         "5",
         "2",
         "2010",
         "72",
         "C"
        ],
        [
         "2",
         "12.0",
         "149.0",
         "12.6",
         "5",
         "3",
         "2010",
         "74",
         "PS"
        ],
        [
         "3",
         "18.0",
         "313.0",
         "11.5",
         "5",
         "4",
         "2010",
         "62",
         "S"
        ],
        [
         "4",
         null,
         null,
         "14.3",
         "5",
         "5",
         "2010",
         "56",
         "S"
        ],
        [
         "5",
         "28.0",
         null,
         "14.9",
         "5",
         "6",
         "2010",
         "66",
         "C"
        ],
        [
         "6",
         "23.0",
         "299.0",
         "8.6",
         "5",
         "7",
         "2010",
         "65",
         "PS"
        ],
        [
         "7",
         "19.0",
         "99.0",
         "13.8",
         "5",
         "8",
         "2010",
         "59",
         "C"
        ],
        [
         "8",
         "8.0",
         "19.0",
         "20.1",
         "5",
         "9",
         "2010",
         "61",
         "PS"
        ],
        [
         "9",
         null,
         "194.0",
         "8.6",
         "5",
         "10",
         "2010",
         "69",
         "S"
        ],
        [
         "10",
         "7.0",
         null,
         "6.9",
         "5",
         "11",
         "2010",
         "74",
         "C"
        ],
        [
         "11",
         "16.0",
         "256.0",
         "9.7",
         "5",
         "12",
         "2010",
         "69",
         "PS"
        ],
        [
         "12",
         "11.0",
         "290.0",
         "9.2",
         "5",
         "13",
         "2010",
         "66",
         "S"
        ],
        [
         "13",
         "14.0",
         "274.0",
         "10.9",
         "5",
         "14",
         "2010",
         "68",
         "S"
        ],
        [
         "14",
         "18.0",
         "65.0",
         "13.2",
         "5",
         "15",
         "2010",
         "58",
         "C"
        ],
        [
         "15",
         "14.0",
         "334.0",
         "11.5",
         "5",
         "16",
         "2010",
         "64",
         "S"
        ],
        [
         "16",
         "34.0",
         "307.0",
         "12.0",
         "5",
         "17",
         "2010",
         "66",
         "S"
        ],
        [
         "17",
         "6.0",
         "78.0",
         "18.4",
         "5",
         "18",
         "2010",
         "57",
         "C"
        ],
        [
         "18",
         "30.0",
         "322.0",
         "11.5",
         "5",
         "19",
         "2010",
         "68",
         "PS"
        ],
        [
         "19",
         "11.0",
         "44.0",
         "9.7",
         "5",
         "20",
         "2010",
         "62",
         "S"
        ],
        [
         "20",
         "1.0",
         "8.0",
         "9.7",
         "5",
         "21",
         "2010",
         "59",
         "S"
        ],
        [
         "21",
         "11.0",
         "320.0",
         "16.6",
         "5",
         "22",
         "2010",
         "73",
         "C"
        ],
        [
         "22",
         "4.0",
         "25.0",
         "9.7",
         "5",
         "23",
         "2010",
         "61",
         "PS"
        ],
        [
         "23",
         "32.0",
         "92.0",
         "12.0",
         "May",
         "24",
         "2010",
         "61",
         "C"
        ],
        [
         "24",
         null,
         "66.0",
         "16.6",
         "5",
         "25",
         "2010",
         "57",
         "PS"
        ],
        [
         "25",
         null,
         "266.0",
         "14.9",
         "5",
         "26",
         "2010",
         "58",
         "C"
        ],
        [
         "26",
         null,
         null,
         "8.0",
         "5",
         "27",
         "2010",
         "57",
         "PS"
        ],
        [
         "27",
         "23.0",
         "13.0",
         "12.0",
         "5",
         "28",
         "2010",
         "67",
         "S"
        ],
        [
         "28",
         "45.0",
         "252.0",
         "14.9",
         "5",
         "29",
         "2010",
         "81",
         "S"
        ],
        [
         "29",
         "115.0",
         "223.0",
         "5.7",
         "5",
         "30",
         "2010",
         "79",
         "C"
        ],
        [
         "30",
         "37.0",
         "279.0",
         "7.4",
         "5",
         "31",
         "2010",
         "76",
         "PS"
        ],
        [
         "31",
         null,
         "286.0",
         "8.6",
         "6",
         "1",
         "2010",
         "78",
         "S"
        ],
        [
         "32",
         null,
         "287.0",
         "9.7",
         "6",
         "2",
         "2010",
         "74",
         "C"
        ],
        [
         "33",
         null,
         "242.0",
         "16.1",
         "6",
         "3",
         "2010",
         "67",
         "PS"
        ],
        [
         "34",
         null,
         "186.0",
         "9.2",
         "6",
         "4",
         "2010",
         "84",
         "C"
        ],
        [
         "35",
         null,
         "220.0",
         "8.6",
         "6",
         "5",
         "2010",
         "85",
         "PS"
        ],
        [
         "36",
         null,
         "264.0",
         "14.3",
         "6",
         "6",
         "2010",
         "79",
         "C"
        ],
        [
         "37",
         "29.0",
         "127.0",
         "9.7",
         "6",
         "7",
         "2010",
         "82",
         "PS"
        ],
        [
         "38",
         null,
         "273.0",
         "6.9",
         "6",
         "8",
         "2010",
         "87",
         "S"
        ],
        [
         "39",
         "71.0",
         "291.0",
         "13.8",
         "6",
         "9",
         "2010",
         "90",
         "S"
        ],
        [
         "40",
         "39.0",
         "323.0",
         "11.5",
         "6",
         "10",
         "2010",
         "87",
         "S"
        ],
        [
         "41",
         null,
         "259.0",
         "10.9",
         "6",
         "11",
         "2010",
         "93",
         "C"
        ],
        [
         "42",
         null,
         "250.0",
         "9.2",
         "6",
         "12",
         "2010",
         "92",
         "PS"
        ],
        [
         "43",
         "23.0",
         "148.0",
         "8.0",
         "6",
         "13",
         "2010",
         "82",
         "S"
        ],
        [
         "44",
         null,
         "332.0",
         "13.8",
         "6",
         "14",
         "2010",
         "80",
         "S"
        ],
        [
         "45",
         null,
         "322.0",
         "11.5",
         "6",
         "15",
         "2010",
         "79",
         "C"
        ],
        [
         "46",
         "21.0",
         "191.0",
         "14.9",
         "6",
         "16",
         "2010",
         "77",
         "PS"
        ],
        [
         "47",
         "37.0",
         "284.0",
         "20.7",
         "6",
         "17",
         "2010",
         "72",
         "C"
        ],
        [
         "48",
         "20.0",
         "37.0",
         "9.2",
         "6",
         "18",
         "2010",
         "65",
         "PS"
        ],
        [
         "49",
         "12.0",
         "120.0",
         "11.5",
         "6",
         "19",
         "2010",
         "73",
         "S"
        ]
       ],
       "shape": {
        "columns": 8,
        "rows": 158
       }
      },
      "text/html": [
       "<div>\n",
       "<style scoped>\n",
       "    .dataframe tbody tr th:only-of-type {\n",
       "        vertical-align: middle;\n",
       "    }\n",
       "\n",
       "    .dataframe tbody tr th {\n",
       "        vertical-align: top;\n",
       "    }\n",
       "\n",
       "    .dataframe thead th {\n",
       "        text-align: right;\n",
       "    }\n",
       "</style>\n",
       "<table border=\"1\" class=\"dataframe\">\n",
       "  <thead>\n",
       "    <tr style=\"text-align: right;\">\n",
       "      <th></th>\n",
       "      <th>Ozone</th>\n",
       "      <th>Solar</th>\n",
       "      <th>Wind</th>\n",
       "      <th>Month</th>\n",
       "      <th>Day</th>\n",
       "      <th>Year</th>\n",
       "      <th>Temp</th>\n",
       "      <th>Weather</th>\n",
       "    </tr>\n",
       "  </thead>\n",
       "  <tbody>\n",
       "    <tr>\n",
       "      <th>0</th>\n",
       "      <td>41.0</td>\n",
       "      <td>190.0</td>\n",
       "      <td>7.4</td>\n",
       "      <td>5</td>\n",
       "      <td>1</td>\n",
       "      <td>2010</td>\n",
       "      <td>67</td>\n",
       "      <td>S</td>\n",
       "    </tr>\n",
       "    <tr>\n",
       "      <th>1</th>\n",
       "      <td>36.0</td>\n",
       "      <td>118.0</td>\n",
       "      <td>8.0</td>\n",
       "      <td>5</td>\n",
       "      <td>2</td>\n",
       "      <td>2010</td>\n",
       "      <td>72</td>\n",
       "      <td>C</td>\n",
       "    </tr>\n",
       "    <tr>\n",
       "      <th>2</th>\n",
       "      <td>12.0</td>\n",
       "      <td>149.0</td>\n",
       "      <td>12.6</td>\n",
       "      <td>5</td>\n",
       "      <td>3</td>\n",
       "      <td>2010</td>\n",
       "      <td>74</td>\n",
       "      <td>PS</td>\n",
       "    </tr>\n",
       "    <tr>\n",
       "      <th>3</th>\n",
       "      <td>18.0</td>\n",
       "      <td>313.0</td>\n",
       "      <td>11.5</td>\n",
       "      <td>5</td>\n",
       "      <td>4</td>\n",
       "      <td>2010</td>\n",
       "      <td>62</td>\n",
       "      <td>S</td>\n",
       "    </tr>\n",
       "    <tr>\n",
       "      <th>4</th>\n",
       "      <td>NaN</td>\n",
       "      <td>NaN</td>\n",
       "      <td>14.3</td>\n",
       "      <td>5</td>\n",
       "      <td>5</td>\n",
       "      <td>2010</td>\n",
       "      <td>56</td>\n",
       "      <td>S</td>\n",
       "    </tr>\n",
       "    <tr>\n",
       "      <th>...</th>\n",
       "      <td>...</td>\n",
       "      <td>...</td>\n",
       "      <td>...</td>\n",
       "      <td>...</td>\n",
       "      <td>...</td>\n",
       "      <td>...</td>\n",
       "      <td>...</td>\n",
       "      <td>...</td>\n",
       "    </tr>\n",
       "    <tr>\n",
       "      <th>153</th>\n",
       "      <td>41.0</td>\n",
       "      <td>190.0</td>\n",
       "      <td>7.4</td>\n",
       "      <td>5</td>\n",
       "      <td>1</td>\n",
       "      <td>2010</td>\n",
       "      <td>67</td>\n",
       "      <td>C</td>\n",
       "    </tr>\n",
       "    <tr>\n",
       "      <th>154</th>\n",
       "      <td>30.0</td>\n",
       "      <td>193.0</td>\n",
       "      <td>6.9</td>\n",
       "      <td>9</td>\n",
       "      <td>26</td>\n",
       "      <td>2010</td>\n",
       "      <td>70</td>\n",
       "      <td>PS</td>\n",
       "    </tr>\n",
       "    <tr>\n",
       "      <th>155</th>\n",
       "      <td>NaN</td>\n",
       "      <td>145.0</td>\n",
       "      <td>13.2</td>\n",
       "      <td>9</td>\n",
       "      <td>27</td>\n",
       "      <td>2010</td>\n",
       "      <td>77</td>\n",
       "      <td>S</td>\n",
       "    </tr>\n",
       "    <tr>\n",
       "      <th>156</th>\n",
       "      <td>14.0</td>\n",
       "      <td>191.0</td>\n",
       "      <td>14.3</td>\n",
       "      <td>9</td>\n",
       "      <td>28</td>\n",
       "      <td>2010</td>\n",
       "      <td>75</td>\n",
       "      <td>S</td>\n",
       "    </tr>\n",
       "    <tr>\n",
       "      <th>157</th>\n",
       "      <td>18.0</td>\n",
       "      <td>131.0</td>\n",
       "      <td>8.0</td>\n",
       "      <td>9</td>\n",
       "      <td>29</td>\n",
       "      <td>2010</td>\n",
       "      <td>76</td>\n",
       "      <td>C</td>\n",
       "    </tr>\n",
       "  </tbody>\n",
       "</table>\n",
       "<p>158 rows × 8 columns</p>\n",
       "</div>"
      ],
      "text/plain": [
       "     Ozone  Solar  Wind Month  Day  Year  Temp Weather\n",
       "0     41.0  190.0   7.4     5    1  2010    67       S\n",
       "1     36.0  118.0   8.0     5    2  2010    72       C\n",
       "2     12.0  149.0  12.6     5    3  2010    74      PS\n",
       "3     18.0  313.0  11.5     5    4  2010    62       S\n",
       "4      NaN    NaN  14.3     5    5  2010    56       S\n",
       "..     ...    ...   ...   ...  ...   ...   ...     ...\n",
       "153   41.0  190.0   7.4     5    1  2010    67       C\n",
       "154   30.0  193.0   6.9     9   26  2010    70      PS\n",
       "155    NaN  145.0  13.2     9   27  2010    77       S\n",
       "156   14.0  191.0  14.3     9   28  2010    75       S\n",
       "157   18.0  131.0   8.0     9   29  2010    76       C\n",
       "\n",
       "[158 rows x 8 columns]"
      ]
     },
     "execution_count": 9,
     "metadata": {},
     "output_type": "execute_result"
    }
   ],
   "source": [
    "data"
   ]
  },
  {
   "cell_type": "code",
   "execution_count": 10,
   "id": "25750a9d",
   "metadata": {},
   "outputs": [],
   "source": [
    "data.drop(\"Year\",axis=1,inplace=True)"
   ]
  },
  {
   "cell_type": "code",
   "execution_count": 11,
   "id": "97e0987e",
   "metadata": {},
   "outputs": [
    {
     "data": {
      "application/vnd.microsoft.datawrangler.viewer.v0+json": {
       "columns": [
        {
         "name": "index",
         "rawType": "int64",
         "type": "integer"
        },
        {
         "name": "Ozone",
         "rawType": "float64",
         "type": "float"
        },
        {
         "name": "Solar",
         "rawType": "float64",
         "type": "float"
        },
        {
         "name": "Wind",
         "rawType": "float64",
         "type": "float"
        },
        {
         "name": "Month",
         "rawType": "object",
         "type": "string"
        },
        {
         "name": "Day",
         "rawType": "int64",
         "type": "integer"
        },
        {
         "name": "Temp",
         "rawType": "int64",
         "type": "integer"
        },
        {
         "name": "Weather",
         "rawType": "object",
         "type": "unknown"
        }
       ],
       "ref": "ae18fd12-6e67-444a-87c5-d824ac548122",
       "rows": [
        [
         "0",
         "41.0",
         "190.0",
         "7.4",
         "5",
         "1",
         "67",
         "S"
        ],
        [
         "1",
         "36.0",
         "118.0",
         "8.0",
         "5",
         "2",
         "72",
         "C"
        ],
        [
         "2",
         "12.0",
         "149.0",
         "12.6",
         "5",
         "3",
         "74",
         "PS"
        ],
        [
         "3",
         "18.0",
         "313.0",
         "11.5",
         "5",
         "4",
         "62",
         "S"
        ],
        [
         "4",
         null,
         null,
         "14.3",
         "5",
         "5",
         "56",
         "S"
        ],
        [
         "5",
         "28.0",
         null,
         "14.9",
         "5",
         "6",
         "66",
         "C"
        ],
        [
         "6",
         "23.0",
         "299.0",
         "8.6",
         "5",
         "7",
         "65",
         "PS"
        ],
        [
         "7",
         "19.0",
         "99.0",
         "13.8",
         "5",
         "8",
         "59",
         "C"
        ],
        [
         "8",
         "8.0",
         "19.0",
         "20.1",
         "5",
         "9",
         "61",
         "PS"
        ],
        [
         "9",
         null,
         "194.0",
         "8.6",
         "5",
         "10",
         "69",
         "S"
        ],
        [
         "10",
         "7.0",
         null,
         "6.9",
         "5",
         "11",
         "74",
         "C"
        ],
        [
         "11",
         "16.0",
         "256.0",
         "9.7",
         "5",
         "12",
         "69",
         "PS"
        ],
        [
         "12",
         "11.0",
         "290.0",
         "9.2",
         "5",
         "13",
         "66",
         "S"
        ],
        [
         "13",
         "14.0",
         "274.0",
         "10.9",
         "5",
         "14",
         "68",
         "S"
        ],
        [
         "14",
         "18.0",
         "65.0",
         "13.2",
         "5",
         "15",
         "58",
         "C"
        ],
        [
         "15",
         "14.0",
         "334.0",
         "11.5",
         "5",
         "16",
         "64",
         "S"
        ],
        [
         "16",
         "34.0",
         "307.0",
         "12.0",
         "5",
         "17",
         "66",
         "S"
        ],
        [
         "17",
         "6.0",
         "78.0",
         "18.4",
         "5",
         "18",
         "57",
         "C"
        ],
        [
         "18",
         "30.0",
         "322.0",
         "11.5",
         "5",
         "19",
         "68",
         "PS"
        ],
        [
         "19",
         "11.0",
         "44.0",
         "9.7",
         "5",
         "20",
         "62",
         "S"
        ],
        [
         "20",
         "1.0",
         "8.0",
         "9.7",
         "5",
         "21",
         "59",
         "S"
        ],
        [
         "21",
         "11.0",
         "320.0",
         "16.6",
         "5",
         "22",
         "73",
         "C"
        ],
        [
         "22",
         "4.0",
         "25.0",
         "9.7",
         "5",
         "23",
         "61",
         "PS"
        ],
        [
         "23",
         "32.0",
         "92.0",
         "12.0",
         "May",
         "24",
         "61",
         "C"
        ],
        [
         "24",
         null,
         "66.0",
         "16.6",
         "5",
         "25",
         "57",
         "PS"
        ],
        [
         "25",
         null,
         "266.0",
         "14.9",
         "5",
         "26",
         "58",
         "C"
        ],
        [
         "26",
         null,
         null,
         "8.0",
         "5",
         "27",
         "57",
         "PS"
        ],
        [
         "27",
         "23.0",
         "13.0",
         "12.0",
         "5",
         "28",
         "67",
         "S"
        ],
        [
         "28",
         "45.0",
         "252.0",
         "14.9",
         "5",
         "29",
         "81",
         "S"
        ],
        [
         "29",
         "115.0",
         "223.0",
         "5.7",
         "5",
         "30",
         "79",
         "C"
        ],
        [
         "30",
         "37.0",
         "279.0",
         "7.4",
         "5",
         "31",
         "76",
         "PS"
        ],
        [
         "31",
         null,
         "286.0",
         "8.6",
         "6",
         "1",
         "78",
         "S"
        ],
        [
         "32",
         null,
         "287.0",
         "9.7",
         "6",
         "2",
         "74",
         "C"
        ],
        [
         "33",
         null,
         "242.0",
         "16.1",
         "6",
         "3",
         "67",
         "PS"
        ],
        [
         "34",
         null,
         "186.0",
         "9.2",
         "6",
         "4",
         "84",
         "C"
        ],
        [
         "35",
         null,
         "220.0",
         "8.6",
         "6",
         "5",
         "85",
         "PS"
        ],
        [
         "36",
         null,
         "264.0",
         "14.3",
         "6",
         "6",
         "79",
         "C"
        ],
        [
         "37",
         "29.0",
         "127.0",
         "9.7",
         "6",
         "7",
         "82",
         "PS"
        ],
        [
         "38",
         null,
         "273.0",
         "6.9",
         "6",
         "8",
         "87",
         "S"
        ],
        [
         "39",
         "71.0",
         "291.0",
         "13.8",
         "6",
         "9",
         "90",
         "S"
        ],
        [
         "40",
         "39.0",
         "323.0",
         "11.5",
         "6",
         "10",
         "87",
         "S"
        ],
        [
         "41",
         null,
         "259.0",
         "10.9",
         "6",
         "11",
         "93",
         "C"
        ],
        [
         "42",
         null,
         "250.0",
         "9.2",
         "6",
         "12",
         "92",
         "PS"
        ],
        [
         "43",
         "23.0",
         "148.0",
         "8.0",
         "6",
         "13",
         "82",
         "S"
        ],
        [
         "44",
         null,
         "332.0",
         "13.8",
         "6",
         "14",
         "80",
         "S"
        ],
        [
         "45",
         null,
         "322.0",
         "11.5",
         "6",
         "15",
         "79",
         "C"
        ],
        [
         "46",
         "21.0",
         "191.0",
         "14.9",
         "6",
         "16",
         "77",
         "PS"
        ],
        [
         "47",
         "37.0",
         "284.0",
         "20.7",
         "6",
         "17",
         "72",
         "C"
        ],
        [
         "48",
         "20.0",
         "37.0",
         "9.2",
         "6",
         "18",
         "65",
         "PS"
        ],
        [
         "49",
         "12.0",
         "120.0",
         "11.5",
         "6",
         "19",
         "73",
         "S"
        ]
       ],
       "shape": {
        "columns": 7,
        "rows": 158
       }
      },
      "text/html": [
       "<div>\n",
       "<style scoped>\n",
       "    .dataframe tbody tr th:only-of-type {\n",
       "        vertical-align: middle;\n",
       "    }\n",
       "\n",
       "    .dataframe tbody tr th {\n",
       "        vertical-align: top;\n",
       "    }\n",
       "\n",
       "    .dataframe thead th {\n",
       "        text-align: right;\n",
       "    }\n",
       "</style>\n",
       "<table border=\"1\" class=\"dataframe\">\n",
       "  <thead>\n",
       "    <tr style=\"text-align: right;\">\n",
       "      <th></th>\n",
       "      <th>Ozone</th>\n",
       "      <th>Solar</th>\n",
       "      <th>Wind</th>\n",
       "      <th>Month</th>\n",
       "      <th>Day</th>\n",
       "      <th>Temp</th>\n",
       "      <th>Weather</th>\n",
       "    </tr>\n",
       "  </thead>\n",
       "  <tbody>\n",
       "    <tr>\n",
       "      <th>0</th>\n",
       "      <td>41.0</td>\n",
       "      <td>190.0</td>\n",
       "      <td>7.4</td>\n",
       "      <td>5</td>\n",
       "      <td>1</td>\n",
       "      <td>67</td>\n",
       "      <td>S</td>\n",
       "    </tr>\n",
       "    <tr>\n",
       "      <th>1</th>\n",
       "      <td>36.0</td>\n",
       "      <td>118.0</td>\n",
       "      <td>8.0</td>\n",
       "      <td>5</td>\n",
       "      <td>2</td>\n",
       "      <td>72</td>\n",
       "      <td>C</td>\n",
       "    </tr>\n",
       "    <tr>\n",
       "      <th>2</th>\n",
       "      <td>12.0</td>\n",
       "      <td>149.0</td>\n",
       "      <td>12.6</td>\n",
       "      <td>5</td>\n",
       "      <td>3</td>\n",
       "      <td>74</td>\n",
       "      <td>PS</td>\n",
       "    </tr>\n",
       "    <tr>\n",
       "      <th>3</th>\n",
       "      <td>18.0</td>\n",
       "      <td>313.0</td>\n",
       "      <td>11.5</td>\n",
       "      <td>5</td>\n",
       "      <td>4</td>\n",
       "      <td>62</td>\n",
       "      <td>S</td>\n",
       "    </tr>\n",
       "    <tr>\n",
       "      <th>4</th>\n",
       "      <td>NaN</td>\n",
       "      <td>NaN</td>\n",
       "      <td>14.3</td>\n",
       "      <td>5</td>\n",
       "      <td>5</td>\n",
       "      <td>56</td>\n",
       "      <td>S</td>\n",
       "    </tr>\n",
       "    <tr>\n",
       "      <th>...</th>\n",
       "      <td>...</td>\n",
       "      <td>...</td>\n",
       "      <td>...</td>\n",
       "      <td>...</td>\n",
       "      <td>...</td>\n",
       "      <td>...</td>\n",
       "      <td>...</td>\n",
       "    </tr>\n",
       "    <tr>\n",
       "      <th>153</th>\n",
       "      <td>41.0</td>\n",
       "      <td>190.0</td>\n",
       "      <td>7.4</td>\n",
       "      <td>5</td>\n",
       "      <td>1</td>\n",
       "      <td>67</td>\n",
       "      <td>C</td>\n",
       "    </tr>\n",
       "    <tr>\n",
       "      <th>154</th>\n",
       "      <td>30.0</td>\n",
       "      <td>193.0</td>\n",
       "      <td>6.9</td>\n",
       "      <td>9</td>\n",
       "      <td>26</td>\n",
       "      <td>70</td>\n",
       "      <td>PS</td>\n",
       "    </tr>\n",
       "    <tr>\n",
       "      <th>155</th>\n",
       "      <td>NaN</td>\n",
       "      <td>145.0</td>\n",
       "      <td>13.2</td>\n",
       "      <td>9</td>\n",
       "      <td>27</td>\n",
       "      <td>77</td>\n",
       "      <td>S</td>\n",
       "    </tr>\n",
       "    <tr>\n",
       "      <th>156</th>\n",
       "      <td>14.0</td>\n",
       "      <td>191.0</td>\n",
       "      <td>14.3</td>\n",
       "      <td>9</td>\n",
       "      <td>28</td>\n",
       "      <td>75</td>\n",
       "      <td>S</td>\n",
       "    </tr>\n",
       "    <tr>\n",
       "      <th>157</th>\n",
       "      <td>18.0</td>\n",
       "      <td>131.0</td>\n",
       "      <td>8.0</td>\n",
       "      <td>9</td>\n",
       "      <td>29</td>\n",
       "      <td>76</td>\n",
       "      <td>C</td>\n",
       "    </tr>\n",
       "  </tbody>\n",
       "</table>\n",
       "<p>158 rows × 7 columns</p>\n",
       "</div>"
      ],
      "text/plain": [
       "     Ozone  Solar  Wind Month  Day  Temp Weather\n",
       "0     41.0  190.0   7.4     5    1    67       S\n",
       "1     36.0  118.0   8.0     5    2    72       C\n",
       "2     12.0  149.0  12.6     5    3    74      PS\n",
       "3     18.0  313.0  11.5     5    4    62       S\n",
       "4      NaN    NaN  14.3     5    5    56       S\n",
       "..     ...    ...   ...   ...  ...   ...     ...\n",
       "153   41.0  190.0   7.4     5    1    67       C\n",
       "154   30.0  193.0   6.9     9   26    70      PS\n",
       "155    NaN  145.0  13.2     9   27    77       S\n",
       "156   14.0  191.0  14.3     9   28    75       S\n",
       "157   18.0  131.0   8.0     9   29    76       C\n",
       "\n",
       "[158 rows x 7 columns]"
      ]
     },
     "execution_count": 11,
     "metadata": {},
     "output_type": "execute_result"
    }
   ],
   "source": [
    "data"
   ]
  },
  {
   "cell_type": "code",
   "execution_count": 12,
   "id": "4fa9a5be",
   "metadata": {},
   "outputs": [
    {
     "name": "stdout",
     "output_type": "stream",
     "text": [
      "<class 'pandas.core.frame.DataFrame'>\n",
      "RangeIndex: 158 entries, 0 to 157\n",
      "Data columns (total 7 columns):\n",
      " #   Column   Non-Null Count  Dtype  \n",
      "---  ------   --------------  -----  \n",
      " 0   Ozone    120 non-null    float64\n",
      " 1   Solar    151 non-null    float64\n",
      " 2   Wind     158 non-null    float64\n",
      " 3   Month    158 non-null    object \n",
      " 4   Day      158 non-null    int64  \n",
      " 5   Temp     158 non-null    int64  \n",
      " 6   Weather  155 non-null    object \n",
      "dtypes: float64(3), int64(2), object(2)\n",
      "memory usage: 8.8+ KB\n"
     ]
    }
   ],
   "source": [
    "data.info()"
   ]
  },
  {
   "cell_type": "code",
   "execution_count": 13,
   "id": "38f6f74b",
   "metadata": {},
   "outputs": [],
   "source": [
    "data[\"Month\"] = pd.to_numeric(data[\"Month\"],errors=\"coerce\")"
   ]
  },
  {
   "cell_type": "code",
   "execution_count": 14,
   "id": "2c7f4b60",
   "metadata": {},
   "outputs": [
    {
     "data": {
      "application/vnd.microsoft.datawrangler.viewer.v0+json": {
       "columns": [
        {
         "name": "index",
         "rawType": "int64",
         "type": "integer"
        },
        {
         "name": "Ozone",
         "rawType": "float64",
         "type": "float"
        },
        {
         "name": "Solar",
         "rawType": "float64",
         "type": "float"
        },
        {
         "name": "Wind",
         "rawType": "float64",
         "type": "float"
        },
        {
         "name": "Month",
         "rawType": "float64",
         "type": "float"
        },
        {
         "name": "Day",
         "rawType": "int64",
         "type": "integer"
        },
        {
         "name": "Temp",
         "rawType": "int64",
         "type": "integer"
        },
        {
         "name": "Weather",
         "rawType": "category",
         "type": "unknown"
        }
       ],
       "ref": "210b161e-c3ca-45f6-a7b2-0605b8d9d599",
       "rows": [
        [
         "0",
         "41.0",
         "190.0",
         "7.4",
         "5.0",
         "1",
         "67",
         "S"
        ],
        [
         "1",
         "36.0",
         "118.0",
         "8.0",
         "5.0",
         "2",
         "72",
         "C"
        ],
        [
         "2",
         "12.0",
         "149.0",
         "12.6",
         "5.0",
         "3",
         "74",
         "PS"
        ],
        [
         "3",
         "18.0",
         "313.0",
         "11.5",
         "5.0",
         "4",
         "62",
         "S"
        ],
        [
         "4",
         null,
         null,
         "14.3",
         "5.0",
         "5",
         "56",
         "S"
        ],
        [
         "5",
         "28.0",
         null,
         "14.9",
         "5.0",
         "6",
         "66",
         "C"
        ],
        [
         "6",
         "23.0",
         "299.0",
         "8.6",
         "5.0",
         "7",
         "65",
         "PS"
        ],
        [
         "7",
         "19.0",
         "99.0",
         "13.8",
         "5.0",
         "8",
         "59",
         "C"
        ],
        [
         "8",
         "8.0",
         "19.0",
         "20.1",
         "5.0",
         "9",
         "61",
         "PS"
        ],
        [
         "9",
         null,
         "194.0",
         "8.6",
         "5.0",
         "10",
         "69",
         "S"
        ],
        [
         "10",
         "7.0",
         null,
         "6.9",
         "5.0",
         "11",
         "74",
         "C"
        ],
        [
         "11",
         "16.0",
         "256.0",
         "9.7",
         "5.0",
         "12",
         "69",
         "PS"
        ],
        [
         "12",
         "11.0",
         "290.0",
         "9.2",
         "5.0",
         "13",
         "66",
         "S"
        ],
        [
         "13",
         "14.0",
         "274.0",
         "10.9",
         "5.0",
         "14",
         "68",
         "S"
        ],
        [
         "14",
         "18.0",
         "65.0",
         "13.2",
         "5.0",
         "15",
         "58",
         "C"
        ],
        [
         "15",
         "14.0",
         "334.0",
         "11.5",
         "5.0",
         "16",
         "64",
         "S"
        ],
        [
         "16",
         "34.0",
         "307.0",
         "12.0",
         "5.0",
         "17",
         "66",
         "S"
        ],
        [
         "17",
         "6.0",
         "78.0",
         "18.4",
         "5.0",
         "18",
         "57",
         "C"
        ],
        [
         "18",
         "30.0",
         "322.0",
         "11.5",
         "5.0",
         "19",
         "68",
         "PS"
        ],
        [
         "19",
         "11.0",
         "44.0",
         "9.7",
         "5.0",
         "20",
         "62",
         "S"
        ],
        [
         "20",
         "1.0",
         "8.0",
         "9.7",
         "5.0",
         "21",
         "59",
         "S"
        ],
        [
         "21",
         "11.0",
         "320.0",
         "16.6",
         "5.0",
         "22",
         "73",
         "C"
        ],
        [
         "22",
         "4.0",
         "25.0",
         "9.7",
         "5.0",
         "23",
         "61",
         "PS"
        ],
        [
         "23",
         "32.0",
         "92.0",
         "12.0",
         null,
         "24",
         "61",
         "C"
        ],
        [
         "24",
         null,
         "66.0",
         "16.6",
         "5.0",
         "25",
         "57",
         "PS"
        ],
        [
         "25",
         null,
         "266.0",
         "14.9",
         "5.0",
         "26",
         "58",
         "C"
        ],
        [
         "26",
         null,
         null,
         "8.0",
         "5.0",
         "27",
         "57",
         "PS"
        ],
        [
         "27",
         "23.0",
         "13.0",
         "12.0",
         "5.0",
         "28",
         "67",
         "S"
        ],
        [
         "28",
         "45.0",
         "252.0",
         "14.9",
         "5.0",
         "29",
         "81",
         "S"
        ],
        [
         "29",
         "115.0",
         "223.0",
         "5.7",
         "5.0",
         "30",
         "79",
         "C"
        ],
        [
         "30",
         "37.0",
         "279.0",
         "7.4",
         "5.0",
         "31",
         "76",
         "PS"
        ],
        [
         "31",
         null,
         "286.0",
         "8.6",
         "6.0",
         "1",
         "78",
         "S"
        ],
        [
         "32",
         null,
         "287.0",
         "9.7",
         "6.0",
         "2",
         "74",
         "C"
        ],
        [
         "33",
         null,
         "242.0",
         "16.1",
         "6.0",
         "3",
         "67",
         "PS"
        ],
        [
         "34",
         null,
         "186.0",
         "9.2",
         "6.0",
         "4",
         "84",
         "C"
        ],
        [
         "35",
         null,
         "220.0",
         "8.6",
         "6.0",
         "5",
         "85",
         "PS"
        ],
        [
         "36",
         null,
         "264.0",
         "14.3",
         "6.0",
         "6",
         "79",
         "C"
        ],
        [
         "37",
         "29.0",
         "127.0",
         "9.7",
         "6.0",
         "7",
         "82",
         "PS"
        ],
        [
         "38",
         null,
         "273.0",
         "6.9",
         "6.0",
         "8",
         "87",
         "S"
        ],
        [
         "39",
         "71.0",
         "291.0",
         "13.8",
         "6.0",
         "9",
         "90",
         "S"
        ],
        [
         "40",
         "39.0",
         "323.0",
         "11.5",
         "6.0",
         "10",
         "87",
         "S"
        ],
        [
         "41",
         null,
         "259.0",
         "10.9",
         "6.0",
         "11",
         "93",
         "C"
        ],
        [
         "42",
         null,
         "250.0",
         "9.2",
         "6.0",
         "12",
         "92",
         "PS"
        ],
        [
         "43",
         "23.0",
         "148.0",
         "8.0",
         "6.0",
         "13",
         "82",
         "S"
        ],
        [
         "44",
         null,
         "332.0",
         "13.8",
         "6.0",
         "14",
         "80",
         "S"
        ],
        [
         "45",
         null,
         "322.0",
         "11.5",
         "6.0",
         "15",
         "79",
         "C"
        ],
        [
         "46",
         "21.0",
         "191.0",
         "14.9",
         "6.0",
         "16",
         "77",
         "PS"
        ],
        [
         "47",
         "37.0",
         "284.0",
         "20.7",
         "6.0",
         "17",
         "72",
         "C"
        ],
        [
         "48",
         "20.0",
         "37.0",
         "9.2",
         "6.0",
         "18",
         "65",
         "PS"
        ],
        [
         "49",
         "12.0",
         "120.0",
         "11.5",
         "6.0",
         "19",
         "73",
         "S"
        ]
       ],
       "shape": {
        "columns": 7,
        "rows": 158
       }
      },
      "text/html": [
       "<div>\n",
       "<style scoped>\n",
       "    .dataframe tbody tr th:only-of-type {\n",
       "        vertical-align: middle;\n",
       "    }\n",
       "\n",
       "    .dataframe tbody tr th {\n",
       "        vertical-align: top;\n",
       "    }\n",
       "\n",
       "    .dataframe thead th {\n",
       "        text-align: right;\n",
       "    }\n",
       "</style>\n",
       "<table border=\"1\" class=\"dataframe\">\n",
       "  <thead>\n",
       "    <tr style=\"text-align: right;\">\n",
       "      <th></th>\n",
       "      <th>Ozone</th>\n",
       "      <th>Solar</th>\n",
       "      <th>Wind</th>\n",
       "      <th>Month</th>\n",
       "      <th>Day</th>\n",
       "      <th>Temp</th>\n",
       "      <th>Weather</th>\n",
       "    </tr>\n",
       "  </thead>\n",
       "  <tbody>\n",
       "    <tr>\n",
       "      <th>0</th>\n",
       "      <td>41.0</td>\n",
       "      <td>190.0</td>\n",
       "      <td>7.4</td>\n",
       "      <td>5.0</td>\n",
       "      <td>1</td>\n",
       "      <td>67</td>\n",
       "      <td>S</td>\n",
       "    </tr>\n",
       "    <tr>\n",
       "      <th>1</th>\n",
       "      <td>36.0</td>\n",
       "      <td>118.0</td>\n",
       "      <td>8.0</td>\n",
       "      <td>5.0</td>\n",
       "      <td>2</td>\n",
       "      <td>72</td>\n",
       "      <td>C</td>\n",
       "    </tr>\n",
       "    <tr>\n",
       "      <th>2</th>\n",
       "      <td>12.0</td>\n",
       "      <td>149.0</td>\n",
       "      <td>12.6</td>\n",
       "      <td>5.0</td>\n",
       "      <td>3</td>\n",
       "      <td>74</td>\n",
       "      <td>PS</td>\n",
       "    </tr>\n",
       "    <tr>\n",
       "      <th>3</th>\n",
       "      <td>18.0</td>\n",
       "      <td>313.0</td>\n",
       "      <td>11.5</td>\n",
       "      <td>5.0</td>\n",
       "      <td>4</td>\n",
       "      <td>62</td>\n",
       "      <td>S</td>\n",
       "    </tr>\n",
       "    <tr>\n",
       "      <th>4</th>\n",
       "      <td>NaN</td>\n",
       "      <td>NaN</td>\n",
       "      <td>14.3</td>\n",
       "      <td>5.0</td>\n",
       "      <td>5</td>\n",
       "      <td>56</td>\n",
       "      <td>S</td>\n",
       "    </tr>\n",
       "    <tr>\n",
       "      <th>...</th>\n",
       "      <td>...</td>\n",
       "      <td>...</td>\n",
       "      <td>...</td>\n",
       "      <td>...</td>\n",
       "      <td>...</td>\n",
       "      <td>...</td>\n",
       "      <td>...</td>\n",
       "    </tr>\n",
       "    <tr>\n",
       "      <th>153</th>\n",
       "      <td>41.0</td>\n",
       "      <td>190.0</td>\n",
       "      <td>7.4</td>\n",
       "      <td>5.0</td>\n",
       "      <td>1</td>\n",
       "      <td>67</td>\n",
       "      <td>C</td>\n",
       "    </tr>\n",
       "    <tr>\n",
       "      <th>154</th>\n",
       "      <td>30.0</td>\n",
       "      <td>193.0</td>\n",
       "      <td>6.9</td>\n",
       "      <td>9.0</td>\n",
       "      <td>26</td>\n",
       "      <td>70</td>\n",
       "      <td>PS</td>\n",
       "    </tr>\n",
       "    <tr>\n",
       "      <th>155</th>\n",
       "      <td>NaN</td>\n",
       "      <td>145.0</td>\n",
       "      <td>13.2</td>\n",
       "      <td>9.0</td>\n",
       "      <td>27</td>\n",
       "      <td>77</td>\n",
       "      <td>S</td>\n",
       "    </tr>\n",
       "    <tr>\n",
       "      <th>156</th>\n",
       "      <td>14.0</td>\n",
       "      <td>191.0</td>\n",
       "      <td>14.3</td>\n",
       "      <td>9.0</td>\n",
       "      <td>28</td>\n",
       "      <td>75</td>\n",
       "      <td>S</td>\n",
       "    </tr>\n",
       "    <tr>\n",
       "      <th>157</th>\n",
       "      <td>18.0</td>\n",
       "      <td>131.0</td>\n",
       "      <td>8.0</td>\n",
       "      <td>9.0</td>\n",
       "      <td>29</td>\n",
       "      <td>76</td>\n",
       "      <td>C</td>\n",
       "    </tr>\n",
       "  </tbody>\n",
       "</table>\n",
       "<p>158 rows × 7 columns</p>\n",
       "</div>"
      ],
      "text/plain": [
       "     Ozone  Solar  Wind  Month  Day  Temp Weather\n",
       "0     41.0  190.0   7.4    5.0    1    67       S\n",
       "1     36.0  118.0   8.0    5.0    2    72       C\n",
       "2     12.0  149.0  12.6    5.0    3    74      PS\n",
       "3     18.0  313.0  11.5    5.0    4    62       S\n",
       "4      NaN    NaN  14.3    5.0    5    56       S\n",
       "..     ...    ...   ...    ...  ...   ...     ...\n",
       "153   41.0  190.0   7.4    5.0    1    67       C\n",
       "154   30.0  193.0   6.9    9.0   26    70      PS\n",
       "155    NaN  145.0  13.2    9.0   27    77       S\n",
       "156   14.0  191.0  14.3    9.0   28    75       S\n",
       "157   18.0  131.0   8.0    9.0   29    76       C\n",
       "\n",
       "[158 rows x 7 columns]"
      ]
     },
     "execution_count": 14,
     "metadata": {},
     "output_type": "execute_result"
    }
   ],
   "source": [
    "data['Weather']=data['Weather'].astype('category')  \n",
    "data"
   ]
  },
  {
   "cell_type": "code",
   "execution_count": 15,
   "id": "bb5ac707",
   "metadata": {},
   "outputs": [
    {
     "name": "stdout",
     "output_type": "stream",
     "text": [
      "<class 'pandas.core.frame.DataFrame'>\n",
      "RangeIndex: 158 entries, 0 to 157\n",
      "Data columns (total 7 columns):\n",
      " #   Column   Non-Null Count  Dtype   \n",
      "---  ------   --------------  -----   \n",
      " 0   Ozone    120 non-null    float64 \n",
      " 1   Solar    151 non-null    float64 \n",
      " 2   Wind     158 non-null    float64 \n",
      " 3   Month    157 non-null    float64 \n",
      " 4   Day      158 non-null    int64   \n",
      " 5   Temp     158 non-null    int64   \n",
      " 6   Weather  155 non-null    category\n",
      "dtypes: category(1), float64(4), int64(2)\n",
      "memory usage: 7.8 KB\n"
     ]
    }
   ],
   "source": [
    "data.info()"
   ]
  },
  {
   "cell_type": "code",
   "execution_count": 16,
   "id": "7e1cd370",
   "metadata": {},
   "outputs": [
    {
     "data": {
      "application/vnd.microsoft.datawrangler.viewer.v0+json": {
       "columns": [
        {
         "name": "index",
         "rawType": "int64",
         "type": "integer"
        },
        {
         "name": "Ozone",
         "rawType": "float64",
         "type": "float"
        },
        {
         "name": "Solar",
         "rawType": "float64",
         "type": "float"
        },
        {
         "name": "Wind",
         "rawType": "float64",
         "type": "float"
        },
        {
         "name": "Month",
         "rawType": "float64",
         "type": "float"
        },
        {
         "name": "Day",
         "rawType": "int64",
         "type": "integer"
        },
        {
         "name": "Temp",
         "rawType": "int64",
         "type": "integer"
        },
        {
         "name": "Weather",
         "rawType": "category",
         "type": "unknown"
        }
       ],
       "ref": "238f0891-b44f-4862-aaf0-14c33fa2fe1d",
       "rows": [
        [
         "156",
         "14.0",
         "191.0",
         "14.3",
         "9.0",
         "28",
         "75",
         "S"
        ]
       ],
       "shape": {
        "columns": 7,
        "rows": 1
       }
      },
      "text/html": [
       "<div>\n",
       "<style scoped>\n",
       "    .dataframe tbody tr th:only-of-type {\n",
       "        vertical-align: middle;\n",
       "    }\n",
       "\n",
       "    .dataframe tbody tr th {\n",
       "        vertical-align: top;\n",
       "    }\n",
       "\n",
       "    .dataframe thead th {\n",
       "        text-align: right;\n",
       "    }\n",
       "</style>\n",
       "<table border=\"1\" class=\"dataframe\">\n",
       "  <thead>\n",
       "    <tr style=\"text-align: right;\">\n",
       "      <th></th>\n",
       "      <th>Ozone</th>\n",
       "      <th>Solar</th>\n",
       "      <th>Wind</th>\n",
       "      <th>Month</th>\n",
       "      <th>Day</th>\n",
       "      <th>Temp</th>\n",
       "      <th>Weather</th>\n",
       "    </tr>\n",
       "  </thead>\n",
       "  <tbody>\n",
       "    <tr>\n",
       "      <th>156</th>\n",
       "      <td>14.0</td>\n",
       "      <td>191.0</td>\n",
       "      <td>14.3</td>\n",
       "      <td>9.0</td>\n",
       "      <td>28</td>\n",
       "      <td>75</td>\n",
       "      <td>S</td>\n",
       "    </tr>\n",
       "  </tbody>\n",
       "</table>\n",
       "</div>"
      ],
      "text/plain": [
       "     Ozone  Solar  Wind  Month  Day  Temp Weather\n",
       "156   14.0  191.0  14.3    9.0   28    75       S"
      ]
     },
     "execution_count": 16,
     "metadata": {},
     "output_type": "execute_result"
    }
   ],
   "source": [
    "data[data.duplicated()]"
   ]
  },
  {
   "cell_type": "code",
   "execution_count": 17,
   "id": "f705fe60",
   "metadata": {},
   "outputs": [
    {
     "data": {
      "text/plain": [
       "1"
      ]
     },
     "execution_count": 17,
     "metadata": {},
     "output_type": "execute_result"
    }
   ],
   "source": [
    "data[data.duplicated()].shape[0]"
   ]
  },
  {
   "cell_type": "code",
   "execution_count": 18,
   "id": "3640f1af",
   "metadata": {},
   "outputs": [
    {
     "data": {
      "text/plain": [
       "Index([], dtype='object')"
      ]
     },
     "execution_count": 18,
     "metadata": {},
     "output_type": "execute_result"
    }
   ],
   "source": [
    "data.columns[data.columns.duplicated()]"
   ]
  },
  {
   "cell_type": "code",
   "execution_count": 19,
   "id": "a49a4d44",
   "metadata": {},
   "outputs": [],
   "source": [
    "data.drop_duplicates(inplace=True)"
   ]
  },
  {
   "cell_type": "code",
   "execution_count": 20,
   "id": "bdab9016",
   "metadata": {},
   "outputs": [
    {
     "data": {
      "application/vnd.microsoft.datawrangler.viewer.v0+json": {
       "columns": [
        {
         "name": "index",
         "rawType": "int64",
         "type": "integer"
        },
        {
         "name": "Ozone",
         "rawType": "float64",
         "type": "float"
        },
        {
         "name": "Solar",
         "rawType": "float64",
         "type": "float"
        },
        {
         "name": "Wind",
         "rawType": "float64",
         "type": "float"
        },
        {
         "name": "Month",
         "rawType": "float64",
         "type": "float"
        },
        {
         "name": "Day",
         "rawType": "int64",
         "type": "integer"
        },
        {
         "name": "Temp",
         "rawType": "int64",
         "type": "integer"
        },
        {
         "name": "Weather",
         "rawType": "category",
         "type": "unknown"
        }
       ],
       "ref": "e74594ce-ee3c-4e4c-af54-78d438767e5e",
       "rows": [
        [
         "0",
         "41.0",
         "190.0",
         "7.4",
         "5.0",
         "1",
         "67",
         "S"
        ],
        [
         "1",
         "36.0",
         "118.0",
         "8.0",
         "5.0",
         "2",
         "72",
         "C"
        ],
        [
         "2",
         "12.0",
         "149.0",
         "12.6",
         "5.0",
         "3",
         "74",
         "PS"
        ],
        [
         "3",
         "18.0",
         "313.0",
         "11.5",
         "5.0",
         "4",
         "62",
         "S"
        ],
        [
         "4",
         null,
         null,
         "14.3",
         "5.0",
         "5",
         "56",
         "S"
        ],
        [
         "5",
         "28.0",
         null,
         "14.9",
         "5.0",
         "6",
         "66",
         "C"
        ],
        [
         "6",
         "23.0",
         "299.0",
         "8.6",
         "5.0",
         "7",
         "65",
         "PS"
        ],
        [
         "7",
         "19.0",
         "99.0",
         "13.8",
         "5.0",
         "8",
         "59",
         "C"
        ],
        [
         "8",
         "8.0",
         "19.0",
         "20.1",
         "5.0",
         "9",
         "61",
         "PS"
        ],
        [
         "9",
         null,
         "194.0",
         "8.6",
         "5.0",
         "10",
         "69",
         "S"
        ],
        [
         "10",
         "7.0",
         null,
         "6.9",
         "5.0",
         "11",
         "74",
         "C"
        ],
        [
         "11",
         "16.0",
         "256.0",
         "9.7",
         "5.0",
         "12",
         "69",
         "PS"
        ],
        [
         "12",
         "11.0",
         "290.0",
         "9.2",
         "5.0",
         "13",
         "66",
         "S"
        ],
        [
         "13",
         "14.0",
         "274.0",
         "10.9",
         "5.0",
         "14",
         "68",
         "S"
        ],
        [
         "14",
         "18.0",
         "65.0",
         "13.2",
         "5.0",
         "15",
         "58",
         "C"
        ],
        [
         "15",
         "14.0",
         "334.0",
         "11.5",
         "5.0",
         "16",
         "64",
         "S"
        ],
        [
         "16",
         "34.0",
         "307.0",
         "12.0",
         "5.0",
         "17",
         "66",
         "S"
        ],
        [
         "17",
         "6.0",
         "78.0",
         "18.4",
         "5.0",
         "18",
         "57",
         "C"
        ],
        [
         "18",
         "30.0",
         "322.0",
         "11.5",
         "5.0",
         "19",
         "68",
         "PS"
        ],
        [
         "19",
         "11.0",
         "44.0",
         "9.7",
         "5.0",
         "20",
         "62",
         "S"
        ],
        [
         "20",
         "1.0",
         "8.0",
         "9.7",
         "5.0",
         "21",
         "59",
         "S"
        ],
        [
         "21",
         "11.0",
         "320.0",
         "16.6",
         "5.0",
         "22",
         "73",
         "C"
        ],
        [
         "22",
         "4.0",
         "25.0",
         "9.7",
         "5.0",
         "23",
         "61",
         "PS"
        ],
        [
         "23",
         "32.0",
         "92.0",
         "12.0",
         null,
         "24",
         "61",
         "C"
        ],
        [
         "24",
         null,
         "66.0",
         "16.6",
         "5.0",
         "25",
         "57",
         "PS"
        ],
        [
         "25",
         null,
         "266.0",
         "14.9",
         "5.0",
         "26",
         "58",
         "C"
        ],
        [
         "26",
         null,
         null,
         "8.0",
         "5.0",
         "27",
         "57",
         "PS"
        ],
        [
         "27",
         "23.0",
         "13.0",
         "12.0",
         "5.0",
         "28",
         "67",
         "S"
        ],
        [
         "28",
         "45.0",
         "252.0",
         "14.9",
         "5.0",
         "29",
         "81",
         "S"
        ],
        [
         "29",
         "115.0",
         "223.0",
         "5.7",
         "5.0",
         "30",
         "79",
         "C"
        ],
        [
         "30",
         "37.0",
         "279.0",
         "7.4",
         "5.0",
         "31",
         "76",
         "PS"
        ],
        [
         "31",
         null,
         "286.0",
         "8.6",
         "6.0",
         "1",
         "78",
         "S"
        ],
        [
         "32",
         null,
         "287.0",
         "9.7",
         "6.0",
         "2",
         "74",
         "C"
        ],
        [
         "33",
         null,
         "242.0",
         "16.1",
         "6.0",
         "3",
         "67",
         "PS"
        ],
        [
         "34",
         null,
         "186.0",
         "9.2",
         "6.0",
         "4",
         "84",
         "C"
        ],
        [
         "35",
         null,
         "220.0",
         "8.6",
         "6.0",
         "5",
         "85",
         "PS"
        ],
        [
         "36",
         null,
         "264.0",
         "14.3",
         "6.0",
         "6",
         "79",
         "C"
        ],
        [
         "37",
         "29.0",
         "127.0",
         "9.7",
         "6.0",
         "7",
         "82",
         "PS"
        ],
        [
         "38",
         null,
         "273.0",
         "6.9",
         "6.0",
         "8",
         "87",
         "S"
        ],
        [
         "39",
         "71.0",
         "291.0",
         "13.8",
         "6.0",
         "9",
         "90",
         "S"
        ],
        [
         "40",
         "39.0",
         "323.0",
         "11.5",
         "6.0",
         "10",
         "87",
         "S"
        ],
        [
         "41",
         null,
         "259.0",
         "10.9",
         "6.0",
         "11",
         "93",
         "C"
        ],
        [
         "42",
         null,
         "250.0",
         "9.2",
         "6.0",
         "12",
         "92",
         "PS"
        ],
        [
         "43",
         "23.0",
         "148.0",
         "8.0",
         "6.0",
         "13",
         "82",
         "S"
        ],
        [
         "44",
         null,
         "332.0",
         "13.8",
         "6.0",
         "14",
         "80",
         "S"
        ],
        [
         "45",
         null,
         "322.0",
         "11.5",
         "6.0",
         "15",
         "79",
         "C"
        ],
        [
         "46",
         "21.0",
         "191.0",
         "14.9",
         "6.0",
         "16",
         "77",
         "PS"
        ],
        [
         "47",
         "37.0",
         "284.0",
         "20.7",
         "6.0",
         "17",
         "72",
         "C"
        ],
        [
         "48",
         "20.0",
         "37.0",
         "9.2",
         "6.0",
         "18",
         "65",
         "PS"
        ],
        [
         "49",
         "12.0",
         "120.0",
         "11.5",
         "6.0",
         "19",
         "73",
         "S"
        ]
       ],
       "shape": {
        "columns": 7,
        "rows": 157
       }
      },
      "text/html": [
       "<div>\n",
       "<style scoped>\n",
       "    .dataframe tbody tr th:only-of-type {\n",
       "        vertical-align: middle;\n",
       "    }\n",
       "\n",
       "    .dataframe tbody tr th {\n",
       "        vertical-align: top;\n",
       "    }\n",
       "\n",
       "    .dataframe thead th {\n",
       "        text-align: right;\n",
       "    }\n",
       "</style>\n",
       "<table border=\"1\" class=\"dataframe\">\n",
       "  <thead>\n",
       "    <tr style=\"text-align: right;\">\n",
       "      <th></th>\n",
       "      <th>Ozone</th>\n",
       "      <th>Solar</th>\n",
       "      <th>Wind</th>\n",
       "      <th>Month</th>\n",
       "      <th>Day</th>\n",
       "      <th>Temp</th>\n",
       "      <th>Weather</th>\n",
       "    </tr>\n",
       "  </thead>\n",
       "  <tbody>\n",
       "    <tr>\n",
       "      <th>0</th>\n",
       "      <td>41.0</td>\n",
       "      <td>190.0</td>\n",
       "      <td>7.4</td>\n",
       "      <td>5.0</td>\n",
       "      <td>1</td>\n",
       "      <td>67</td>\n",
       "      <td>S</td>\n",
       "    </tr>\n",
       "    <tr>\n",
       "      <th>1</th>\n",
       "      <td>36.0</td>\n",
       "      <td>118.0</td>\n",
       "      <td>8.0</td>\n",
       "      <td>5.0</td>\n",
       "      <td>2</td>\n",
       "      <td>72</td>\n",
       "      <td>C</td>\n",
       "    </tr>\n",
       "    <tr>\n",
       "      <th>2</th>\n",
       "      <td>12.0</td>\n",
       "      <td>149.0</td>\n",
       "      <td>12.6</td>\n",
       "      <td>5.0</td>\n",
       "      <td>3</td>\n",
       "      <td>74</td>\n",
       "      <td>PS</td>\n",
       "    </tr>\n",
       "    <tr>\n",
       "      <th>3</th>\n",
       "      <td>18.0</td>\n",
       "      <td>313.0</td>\n",
       "      <td>11.5</td>\n",
       "      <td>5.0</td>\n",
       "      <td>4</td>\n",
       "      <td>62</td>\n",
       "      <td>S</td>\n",
       "    </tr>\n",
       "    <tr>\n",
       "      <th>4</th>\n",
       "      <td>NaN</td>\n",
       "      <td>NaN</td>\n",
       "      <td>14.3</td>\n",
       "      <td>5.0</td>\n",
       "      <td>5</td>\n",
       "      <td>56</td>\n",
       "      <td>S</td>\n",
       "    </tr>\n",
       "    <tr>\n",
       "      <th>...</th>\n",
       "      <td>...</td>\n",
       "      <td>...</td>\n",
       "      <td>...</td>\n",
       "      <td>...</td>\n",
       "      <td>...</td>\n",
       "      <td>...</td>\n",
       "      <td>...</td>\n",
       "    </tr>\n",
       "    <tr>\n",
       "      <th>152</th>\n",
       "      <td>20.0</td>\n",
       "      <td>223.0</td>\n",
       "      <td>11.5</td>\n",
       "      <td>9.0</td>\n",
       "      <td>30</td>\n",
       "      <td>68</td>\n",
       "      <td>S</td>\n",
       "    </tr>\n",
       "    <tr>\n",
       "      <th>153</th>\n",
       "      <td>41.0</td>\n",
       "      <td>190.0</td>\n",
       "      <td>7.4</td>\n",
       "      <td>5.0</td>\n",
       "      <td>1</td>\n",
       "      <td>67</td>\n",
       "      <td>C</td>\n",
       "    </tr>\n",
       "    <tr>\n",
       "      <th>154</th>\n",
       "      <td>30.0</td>\n",
       "      <td>193.0</td>\n",
       "      <td>6.9</td>\n",
       "      <td>9.0</td>\n",
       "      <td>26</td>\n",
       "      <td>70</td>\n",
       "      <td>PS</td>\n",
       "    </tr>\n",
       "    <tr>\n",
       "      <th>155</th>\n",
       "      <td>NaN</td>\n",
       "      <td>145.0</td>\n",
       "      <td>13.2</td>\n",
       "      <td>9.0</td>\n",
       "      <td>27</td>\n",
       "      <td>77</td>\n",
       "      <td>S</td>\n",
       "    </tr>\n",
       "    <tr>\n",
       "      <th>157</th>\n",
       "      <td>18.0</td>\n",
       "      <td>131.0</td>\n",
       "      <td>8.0</td>\n",
       "      <td>9.0</td>\n",
       "      <td>29</td>\n",
       "      <td>76</td>\n",
       "      <td>C</td>\n",
       "    </tr>\n",
       "  </tbody>\n",
       "</table>\n",
       "<p>157 rows × 7 columns</p>\n",
       "</div>"
      ],
      "text/plain": [
       "     Ozone  Solar  Wind  Month  Day  Temp Weather\n",
       "0     41.0  190.0   7.4    5.0    1    67       S\n",
       "1     36.0  118.0   8.0    5.0    2    72       C\n",
       "2     12.0  149.0  12.6    5.0    3    74      PS\n",
       "3     18.0  313.0  11.5    5.0    4    62       S\n",
       "4      NaN    NaN  14.3    5.0    5    56       S\n",
       "..     ...    ...   ...    ...  ...   ...     ...\n",
       "152   20.0  223.0  11.5    9.0   30    68       S\n",
       "153   41.0  190.0   7.4    5.0    1    67       C\n",
       "154   30.0  193.0   6.9    9.0   26    70      PS\n",
       "155    NaN  145.0  13.2    9.0   27    77       S\n",
       "157   18.0  131.0   8.0    9.0   29    76       C\n",
       "\n",
       "[157 rows x 7 columns]"
      ]
     },
     "execution_count": 20,
     "metadata": {},
     "output_type": "execute_result"
    }
   ],
   "source": [
    "data"
   ]
  },
  {
   "cell_type": "code",
   "execution_count": 21,
   "id": "d0afecf0",
   "metadata": {},
   "outputs": [],
   "source": [
    "data.reset_index(inplace=True)"
   ]
  },
  {
   "cell_type": "code",
   "execution_count": 22,
   "id": "f05a5cd9",
   "metadata": {},
   "outputs": [
    {
     "data": {
      "application/vnd.microsoft.datawrangler.viewer.v0+json": {
       "columns": [
        {
         "name": "index",
         "rawType": "int64",
         "type": "integer"
        },
        {
         "name": "index",
         "rawType": "int64",
         "type": "integer"
        },
        {
         "name": "Ozone",
         "rawType": "float64",
         "type": "float"
        },
        {
         "name": "Solar",
         "rawType": "float64",
         "type": "float"
        },
        {
         "name": "Wind",
         "rawType": "float64",
         "type": "float"
        },
        {
         "name": "Month",
         "rawType": "float64",
         "type": "float"
        },
        {
         "name": "Day",
         "rawType": "int64",
         "type": "integer"
        },
        {
         "name": "Temp",
         "rawType": "int64",
         "type": "integer"
        },
        {
         "name": "Weather",
         "rawType": "category",
         "type": "unknown"
        }
       ],
       "ref": "3d504293-9cc8-4c19-b410-795cccec2ffe",
       "rows": [
        [
         "0",
         "0",
         "41.0",
         "190.0",
         "7.4",
         "5.0",
         "1",
         "67",
         "S"
        ],
        [
         "1",
         "1",
         "36.0",
         "118.0",
         "8.0",
         "5.0",
         "2",
         "72",
         "C"
        ],
        [
         "2",
         "2",
         "12.0",
         "149.0",
         "12.6",
         "5.0",
         "3",
         "74",
         "PS"
        ],
        [
         "3",
         "3",
         "18.0",
         "313.0",
         "11.5",
         "5.0",
         "4",
         "62",
         "S"
        ],
        [
         "4",
         "4",
         null,
         null,
         "14.3",
         "5.0",
         "5",
         "56",
         "S"
        ],
        [
         "5",
         "5",
         "28.0",
         null,
         "14.9",
         "5.0",
         "6",
         "66",
         "C"
        ],
        [
         "6",
         "6",
         "23.0",
         "299.0",
         "8.6",
         "5.0",
         "7",
         "65",
         "PS"
        ],
        [
         "7",
         "7",
         "19.0",
         "99.0",
         "13.8",
         "5.0",
         "8",
         "59",
         "C"
        ],
        [
         "8",
         "8",
         "8.0",
         "19.0",
         "20.1",
         "5.0",
         "9",
         "61",
         "PS"
        ],
        [
         "9",
         "9",
         null,
         "194.0",
         "8.6",
         "5.0",
         "10",
         "69",
         "S"
        ],
        [
         "10",
         "10",
         "7.0",
         null,
         "6.9",
         "5.0",
         "11",
         "74",
         "C"
        ],
        [
         "11",
         "11",
         "16.0",
         "256.0",
         "9.7",
         "5.0",
         "12",
         "69",
         "PS"
        ],
        [
         "12",
         "12",
         "11.0",
         "290.0",
         "9.2",
         "5.0",
         "13",
         "66",
         "S"
        ],
        [
         "13",
         "13",
         "14.0",
         "274.0",
         "10.9",
         "5.0",
         "14",
         "68",
         "S"
        ],
        [
         "14",
         "14",
         "18.0",
         "65.0",
         "13.2",
         "5.0",
         "15",
         "58",
         "C"
        ],
        [
         "15",
         "15",
         "14.0",
         "334.0",
         "11.5",
         "5.0",
         "16",
         "64",
         "S"
        ],
        [
         "16",
         "16",
         "34.0",
         "307.0",
         "12.0",
         "5.0",
         "17",
         "66",
         "S"
        ],
        [
         "17",
         "17",
         "6.0",
         "78.0",
         "18.4",
         "5.0",
         "18",
         "57",
         "C"
        ],
        [
         "18",
         "18",
         "30.0",
         "322.0",
         "11.5",
         "5.0",
         "19",
         "68",
         "PS"
        ],
        [
         "19",
         "19",
         "11.0",
         "44.0",
         "9.7",
         "5.0",
         "20",
         "62",
         "S"
        ],
        [
         "20",
         "20",
         "1.0",
         "8.0",
         "9.7",
         "5.0",
         "21",
         "59",
         "S"
        ],
        [
         "21",
         "21",
         "11.0",
         "320.0",
         "16.6",
         "5.0",
         "22",
         "73",
         "C"
        ],
        [
         "22",
         "22",
         "4.0",
         "25.0",
         "9.7",
         "5.0",
         "23",
         "61",
         "PS"
        ],
        [
         "23",
         "23",
         "32.0",
         "92.0",
         "12.0",
         null,
         "24",
         "61",
         "C"
        ],
        [
         "24",
         "24",
         null,
         "66.0",
         "16.6",
         "5.0",
         "25",
         "57",
         "PS"
        ],
        [
         "25",
         "25",
         null,
         "266.0",
         "14.9",
         "5.0",
         "26",
         "58",
         "C"
        ],
        [
         "26",
         "26",
         null,
         null,
         "8.0",
         "5.0",
         "27",
         "57",
         "PS"
        ],
        [
         "27",
         "27",
         "23.0",
         "13.0",
         "12.0",
         "5.0",
         "28",
         "67",
         "S"
        ],
        [
         "28",
         "28",
         "45.0",
         "252.0",
         "14.9",
         "5.0",
         "29",
         "81",
         "S"
        ],
        [
         "29",
         "29",
         "115.0",
         "223.0",
         "5.7",
         "5.0",
         "30",
         "79",
         "C"
        ],
        [
         "30",
         "30",
         "37.0",
         "279.0",
         "7.4",
         "5.0",
         "31",
         "76",
         "PS"
        ],
        [
         "31",
         "31",
         null,
         "286.0",
         "8.6",
         "6.0",
         "1",
         "78",
         "S"
        ],
        [
         "32",
         "32",
         null,
         "287.0",
         "9.7",
         "6.0",
         "2",
         "74",
         "C"
        ],
        [
         "33",
         "33",
         null,
         "242.0",
         "16.1",
         "6.0",
         "3",
         "67",
         "PS"
        ],
        [
         "34",
         "34",
         null,
         "186.0",
         "9.2",
         "6.0",
         "4",
         "84",
         "C"
        ],
        [
         "35",
         "35",
         null,
         "220.0",
         "8.6",
         "6.0",
         "5",
         "85",
         "PS"
        ],
        [
         "36",
         "36",
         null,
         "264.0",
         "14.3",
         "6.0",
         "6",
         "79",
         "C"
        ],
        [
         "37",
         "37",
         "29.0",
         "127.0",
         "9.7",
         "6.0",
         "7",
         "82",
         "PS"
        ],
        [
         "38",
         "38",
         null,
         "273.0",
         "6.9",
         "6.0",
         "8",
         "87",
         "S"
        ],
        [
         "39",
         "39",
         "71.0",
         "291.0",
         "13.8",
         "6.0",
         "9",
         "90",
         "S"
        ],
        [
         "40",
         "40",
         "39.0",
         "323.0",
         "11.5",
         "6.0",
         "10",
         "87",
         "S"
        ],
        [
         "41",
         "41",
         null,
         "259.0",
         "10.9",
         "6.0",
         "11",
         "93",
         "C"
        ],
        [
         "42",
         "42",
         null,
         "250.0",
         "9.2",
         "6.0",
         "12",
         "92",
         "PS"
        ],
        [
         "43",
         "43",
         "23.0",
         "148.0",
         "8.0",
         "6.0",
         "13",
         "82",
         "S"
        ],
        [
         "44",
         "44",
         null,
         "332.0",
         "13.8",
         "6.0",
         "14",
         "80",
         "S"
        ],
        [
         "45",
         "45",
         null,
         "322.0",
         "11.5",
         "6.0",
         "15",
         "79",
         "C"
        ],
        [
         "46",
         "46",
         "21.0",
         "191.0",
         "14.9",
         "6.0",
         "16",
         "77",
         "PS"
        ],
        [
         "47",
         "47",
         "37.0",
         "284.0",
         "20.7",
         "6.0",
         "17",
         "72",
         "C"
        ],
        [
         "48",
         "48",
         "20.0",
         "37.0",
         "9.2",
         "6.0",
         "18",
         "65",
         "PS"
        ],
        [
         "49",
         "49",
         "12.0",
         "120.0",
         "11.5",
         "6.0",
         "19",
         "73",
         "S"
        ]
       ],
       "shape": {
        "columns": 8,
        "rows": 157
       }
      },
      "text/html": [
       "<div>\n",
       "<style scoped>\n",
       "    .dataframe tbody tr th:only-of-type {\n",
       "        vertical-align: middle;\n",
       "    }\n",
       "\n",
       "    .dataframe tbody tr th {\n",
       "        vertical-align: top;\n",
       "    }\n",
       "\n",
       "    .dataframe thead th {\n",
       "        text-align: right;\n",
       "    }\n",
       "</style>\n",
       "<table border=\"1\" class=\"dataframe\">\n",
       "  <thead>\n",
       "    <tr style=\"text-align: right;\">\n",
       "      <th></th>\n",
       "      <th>index</th>\n",
       "      <th>Ozone</th>\n",
       "      <th>Solar</th>\n",
       "      <th>Wind</th>\n",
       "      <th>Month</th>\n",
       "      <th>Day</th>\n",
       "      <th>Temp</th>\n",
       "      <th>Weather</th>\n",
       "    </tr>\n",
       "  </thead>\n",
       "  <tbody>\n",
       "    <tr>\n",
       "      <th>0</th>\n",
       "      <td>0</td>\n",
       "      <td>41.0</td>\n",
       "      <td>190.0</td>\n",
       "      <td>7.4</td>\n",
       "      <td>5.0</td>\n",
       "      <td>1</td>\n",
       "      <td>67</td>\n",
       "      <td>S</td>\n",
       "    </tr>\n",
       "    <tr>\n",
       "      <th>1</th>\n",
       "      <td>1</td>\n",
       "      <td>36.0</td>\n",
       "      <td>118.0</td>\n",
       "      <td>8.0</td>\n",
       "      <td>5.0</td>\n",
       "      <td>2</td>\n",
       "      <td>72</td>\n",
       "      <td>C</td>\n",
       "    </tr>\n",
       "    <tr>\n",
       "      <th>2</th>\n",
       "      <td>2</td>\n",
       "      <td>12.0</td>\n",
       "      <td>149.0</td>\n",
       "      <td>12.6</td>\n",
       "      <td>5.0</td>\n",
       "      <td>3</td>\n",
       "      <td>74</td>\n",
       "      <td>PS</td>\n",
       "    </tr>\n",
       "    <tr>\n",
       "      <th>3</th>\n",
       "      <td>3</td>\n",
       "      <td>18.0</td>\n",
       "      <td>313.0</td>\n",
       "      <td>11.5</td>\n",
       "      <td>5.0</td>\n",
       "      <td>4</td>\n",
       "      <td>62</td>\n",
       "      <td>S</td>\n",
       "    </tr>\n",
       "    <tr>\n",
       "      <th>4</th>\n",
       "      <td>4</td>\n",
       "      <td>NaN</td>\n",
       "      <td>NaN</td>\n",
       "      <td>14.3</td>\n",
       "      <td>5.0</td>\n",
       "      <td>5</td>\n",
       "      <td>56</td>\n",
       "      <td>S</td>\n",
       "    </tr>\n",
       "    <tr>\n",
       "      <th>...</th>\n",
       "      <td>...</td>\n",
       "      <td>...</td>\n",
       "      <td>...</td>\n",
       "      <td>...</td>\n",
       "      <td>...</td>\n",
       "      <td>...</td>\n",
       "      <td>...</td>\n",
       "      <td>...</td>\n",
       "    </tr>\n",
       "    <tr>\n",
       "      <th>152</th>\n",
       "      <td>152</td>\n",
       "      <td>20.0</td>\n",
       "      <td>223.0</td>\n",
       "      <td>11.5</td>\n",
       "      <td>9.0</td>\n",
       "      <td>30</td>\n",
       "      <td>68</td>\n",
       "      <td>S</td>\n",
       "    </tr>\n",
       "    <tr>\n",
       "      <th>153</th>\n",
       "      <td>153</td>\n",
       "      <td>41.0</td>\n",
       "      <td>190.0</td>\n",
       "      <td>7.4</td>\n",
       "      <td>5.0</td>\n",
       "      <td>1</td>\n",
       "      <td>67</td>\n",
       "      <td>C</td>\n",
       "    </tr>\n",
       "    <tr>\n",
       "      <th>154</th>\n",
       "      <td>154</td>\n",
       "      <td>30.0</td>\n",
       "      <td>193.0</td>\n",
       "      <td>6.9</td>\n",
       "      <td>9.0</td>\n",
       "      <td>26</td>\n",
       "      <td>70</td>\n",
       "      <td>PS</td>\n",
       "    </tr>\n",
       "    <tr>\n",
       "      <th>155</th>\n",
       "      <td>155</td>\n",
       "      <td>NaN</td>\n",
       "      <td>145.0</td>\n",
       "      <td>13.2</td>\n",
       "      <td>9.0</td>\n",
       "      <td>27</td>\n",
       "      <td>77</td>\n",
       "      <td>S</td>\n",
       "    </tr>\n",
       "    <tr>\n",
       "      <th>156</th>\n",
       "      <td>157</td>\n",
       "      <td>18.0</td>\n",
       "      <td>131.0</td>\n",
       "      <td>8.0</td>\n",
       "      <td>9.0</td>\n",
       "      <td>29</td>\n",
       "      <td>76</td>\n",
       "      <td>C</td>\n",
       "    </tr>\n",
       "  </tbody>\n",
       "</table>\n",
       "<p>157 rows × 8 columns</p>\n",
       "</div>"
      ],
      "text/plain": [
       "     index  Ozone  Solar  Wind  Month  Day  Temp Weather\n",
       "0        0   41.0  190.0   7.4    5.0    1    67       S\n",
       "1        1   36.0  118.0   8.0    5.0    2    72       C\n",
       "2        2   12.0  149.0  12.6    5.0    3    74      PS\n",
       "3        3   18.0  313.0  11.5    5.0    4    62       S\n",
       "4        4    NaN    NaN  14.3    5.0    5    56       S\n",
       "..     ...    ...    ...   ...    ...  ...   ...     ...\n",
       "152    152   20.0  223.0  11.5    9.0   30    68       S\n",
       "153    153   41.0  190.0   7.4    5.0    1    67       C\n",
       "154    154   30.0  193.0   6.9    9.0   26    70      PS\n",
       "155    155    NaN  145.0  13.2    9.0   27    77       S\n",
       "156    157   18.0  131.0   8.0    9.0   29    76       C\n",
       "\n",
       "[157 rows x 8 columns]"
      ]
     },
     "execution_count": 22,
     "metadata": {},
     "output_type": "execute_result"
    }
   ],
   "source": [
    "data"
   ]
  },
  {
   "cell_type": "code",
   "execution_count": 23,
   "id": "41ed2c21",
   "metadata": {},
   "outputs": [
    {
     "data": {
      "application/vnd.microsoft.datawrangler.viewer.v0+json": {
       "columns": [
        {
         "name": "index",
         "rawType": "int64",
         "type": "integer"
        },
        {
         "name": "Ozone",
         "rawType": "float64",
         "type": "float"
        },
        {
         "name": "Solar",
         "rawType": "float64",
         "type": "float"
        },
        {
         "name": "Wind",
         "rawType": "float64",
         "type": "float"
        },
        {
         "name": "Month",
         "rawType": "float64",
         "type": "float"
        },
        {
         "name": "Day",
         "rawType": "int64",
         "type": "integer"
        },
        {
         "name": "Temp",
         "rawType": "int64",
         "type": "integer"
        },
        {
         "name": "Weather",
         "rawType": "category",
         "type": "unknown"
        }
       ],
       "ref": "404a7353-a608-4b61-a9ab-9a0deb15c66c",
       "rows": [
        [
         "0",
         "36.0",
         "118.0",
         "8.0",
         "5.0",
         "2",
         "72",
         "C"
        ],
        [
         "1",
         "12.0",
         "149.0",
         "12.6",
         "5.0",
         "3",
         "74",
         "PS"
        ],
        [
         "2",
         "18.0",
         "313.0",
         "11.5",
         "5.0",
         "4",
         "62",
         "S"
        ],
        [
         "3",
         null,
         null,
         "14.3",
         "5.0",
         "5",
         "56",
         "S"
        ],
        [
         "4",
         "28.0",
         null,
         "14.9",
         "5.0",
         "6",
         "66",
         "C"
        ],
        [
         "5",
         "23.0",
         "299.0",
         "8.6",
         "5.0",
         "7",
         "65",
         "PS"
        ],
        [
         "6",
         "19.0",
         "99.0",
         "13.8",
         "5.0",
         "8",
         "59",
         "C"
        ],
        [
         "7",
         "8.0",
         "19.0",
         "20.1",
         "5.0",
         "9",
         "61",
         "PS"
        ],
        [
         "8",
         null,
         "194.0",
         "8.6",
         "5.0",
         "10",
         "69",
         "S"
        ],
        [
         "9",
         "7.0",
         null,
         "6.9",
         "5.0",
         "11",
         "74",
         "C"
        ],
        [
         "10",
         "16.0",
         "256.0",
         "9.7",
         "5.0",
         "12",
         "69",
         "PS"
        ],
        [
         "11",
         "11.0",
         "290.0",
         "9.2",
         "5.0",
         "13",
         "66",
         "S"
        ],
        [
         "12",
         "14.0",
         "274.0",
         "10.9",
         "5.0",
         "14",
         "68",
         "S"
        ],
        [
         "13",
         "18.0",
         "65.0",
         "13.2",
         "5.0",
         "15",
         "58",
         "C"
        ],
        [
         "14",
         "14.0",
         "334.0",
         "11.5",
         "5.0",
         "16",
         "64",
         "S"
        ],
        [
         "15",
         "34.0",
         "307.0",
         "12.0",
         "5.0",
         "17",
         "66",
         "S"
        ],
        [
         "16",
         "6.0",
         "78.0",
         "18.4",
         "5.0",
         "18",
         "57",
         "C"
        ],
        [
         "17",
         "30.0",
         "322.0",
         "11.5",
         "5.0",
         "19",
         "68",
         "PS"
        ],
        [
         "18",
         "11.0",
         "44.0",
         "9.7",
         "5.0",
         "20",
         "62",
         "S"
        ],
        [
         "19",
         "1.0",
         "8.0",
         "9.7",
         "5.0",
         "21",
         "59",
         "S"
        ],
        [
         "20",
         "11.0",
         "320.0",
         "16.6",
         "5.0",
         "22",
         "73",
         "C"
        ],
        [
         "21",
         "4.0",
         "25.0",
         "9.7",
         "5.0",
         "23",
         "61",
         "PS"
        ],
        [
         "22",
         "32.0",
         "92.0",
         "12.0",
         null,
         "24",
         "61",
         "C"
        ],
        [
         "23",
         null,
         "66.0",
         "16.6",
         "5.0",
         "25",
         "57",
         "PS"
        ],
        [
         "24",
         null,
         "266.0",
         "14.9",
         "5.0",
         "26",
         "58",
         "C"
        ],
        [
         "25",
         null,
         null,
         "8.0",
         "5.0",
         "27",
         "57",
         "PS"
        ],
        [
         "26",
         "23.0",
         "13.0",
         "12.0",
         "5.0",
         "28",
         "67",
         "S"
        ],
        [
         "27",
         "45.0",
         "252.0",
         "14.9",
         "5.0",
         "29",
         "81",
         "S"
        ],
        [
         "28",
         "115.0",
         "223.0",
         "5.7",
         "5.0",
         "30",
         "79",
         "C"
        ],
        [
         "29",
         "37.0",
         "279.0",
         "7.4",
         "5.0",
         "31",
         "76",
         "PS"
        ],
        [
         "30",
         null,
         "286.0",
         "8.6",
         "6.0",
         "1",
         "78",
         "S"
        ],
        [
         "31",
         null,
         "287.0",
         "9.7",
         "6.0",
         "2",
         "74",
         "C"
        ],
        [
         "32",
         null,
         "242.0",
         "16.1",
         "6.0",
         "3",
         "67",
         "PS"
        ],
        [
         "33",
         null,
         "186.0",
         "9.2",
         "6.0",
         "4",
         "84",
         "C"
        ],
        [
         "34",
         null,
         "220.0",
         "8.6",
         "6.0",
         "5",
         "85",
         "PS"
        ],
        [
         "35",
         null,
         "264.0",
         "14.3",
         "6.0",
         "6",
         "79",
         "C"
        ],
        [
         "36",
         "29.0",
         "127.0",
         "9.7",
         "6.0",
         "7",
         "82",
         "PS"
        ],
        [
         "37",
         null,
         "273.0",
         "6.9",
         "6.0",
         "8",
         "87",
         "S"
        ],
        [
         "38",
         "71.0",
         "291.0",
         "13.8",
         "6.0",
         "9",
         "90",
         "S"
        ],
        [
         "39",
         "39.0",
         "323.0",
         "11.5",
         "6.0",
         "10",
         "87",
         "S"
        ],
        [
         "40",
         null,
         "259.0",
         "10.9",
         "6.0",
         "11",
         "93",
         "C"
        ],
        [
         "41",
         null,
         "250.0",
         "9.2",
         "6.0",
         "12",
         "92",
         "PS"
        ],
        [
         "42",
         "23.0",
         "148.0",
         "8.0",
         "6.0",
         "13",
         "82",
         "S"
        ],
        [
         "43",
         null,
         "332.0",
         "13.8",
         "6.0",
         "14",
         "80",
         "S"
        ],
        [
         "44",
         null,
         "322.0",
         "11.5",
         "6.0",
         "15",
         "79",
         "C"
        ],
        [
         "45",
         "21.0",
         "191.0",
         "14.9",
         "6.0",
         "16",
         "77",
         "PS"
        ],
        [
         "46",
         "37.0",
         "284.0",
         "20.7",
         "6.0",
         "17",
         "72",
         "C"
        ],
        [
         "47",
         "20.0",
         "37.0",
         "9.2",
         "6.0",
         "18",
         "65",
         "PS"
        ],
        [
         "48",
         "12.0",
         "120.0",
         "11.5",
         "6.0",
         "19",
         "73",
         "S"
        ],
        [
         "49",
         "13.0",
         "137.0",
         "10.3",
         "6.0",
         "20",
         "76",
         "S"
        ]
       ],
       "shape": {
        "columns": 7,
        "rows": 156
       }
      },
      "text/html": [
       "<div>\n",
       "<style scoped>\n",
       "    .dataframe tbody tr th:only-of-type {\n",
       "        vertical-align: middle;\n",
       "    }\n",
       "\n",
       "    .dataframe tbody tr th {\n",
       "        vertical-align: top;\n",
       "    }\n",
       "\n",
       "    .dataframe thead th {\n",
       "        text-align: right;\n",
       "    }\n",
       "</style>\n",
       "<table border=\"1\" class=\"dataframe\">\n",
       "  <thead>\n",
       "    <tr style=\"text-align: right;\">\n",
       "      <th></th>\n",
       "      <th>Ozone</th>\n",
       "      <th>Solar</th>\n",
       "      <th>Wind</th>\n",
       "      <th>Month</th>\n",
       "      <th>Day</th>\n",
       "      <th>Temp</th>\n",
       "      <th>Weather</th>\n",
       "    </tr>\n",
       "  </thead>\n",
       "  <tbody>\n",
       "    <tr>\n",
       "      <th>0</th>\n",
       "      <td>36.0</td>\n",
       "      <td>118.0</td>\n",
       "      <td>8.0</td>\n",
       "      <td>5.0</td>\n",
       "      <td>2</td>\n",
       "      <td>72</td>\n",
       "      <td>C</td>\n",
       "    </tr>\n",
       "    <tr>\n",
       "      <th>1</th>\n",
       "      <td>12.0</td>\n",
       "      <td>149.0</td>\n",
       "      <td>12.6</td>\n",
       "      <td>5.0</td>\n",
       "      <td>3</td>\n",
       "      <td>74</td>\n",
       "      <td>PS</td>\n",
       "    </tr>\n",
       "    <tr>\n",
       "      <th>2</th>\n",
       "      <td>18.0</td>\n",
       "      <td>313.0</td>\n",
       "      <td>11.5</td>\n",
       "      <td>5.0</td>\n",
       "      <td>4</td>\n",
       "      <td>62</td>\n",
       "      <td>S</td>\n",
       "    </tr>\n",
       "    <tr>\n",
       "      <th>3</th>\n",
       "      <td>NaN</td>\n",
       "      <td>NaN</td>\n",
       "      <td>14.3</td>\n",
       "      <td>5.0</td>\n",
       "      <td>5</td>\n",
       "      <td>56</td>\n",
       "      <td>S</td>\n",
       "    </tr>\n",
       "    <tr>\n",
       "      <th>4</th>\n",
       "      <td>28.0</td>\n",
       "      <td>NaN</td>\n",
       "      <td>14.9</td>\n",
       "      <td>5.0</td>\n",
       "      <td>6</td>\n",
       "      <td>66</td>\n",
       "      <td>C</td>\n",
       "    </tr>\n",
       "    <tr>\n",
       "      <th>...</th>\n",
       "      <td>...</td>\n",
       "      <td>...</td>\n",
       "      <td>...</td>\n",
       "      <td>...</td>\n",
       "      <td>...</td>\n",
       "      <td>...</td>\n",
       "      <td>...</td>\n",
       "    </tr>\n",
       "    <tr>\n",
       "      <th>151</th>\n",
       "      <td>20.0</td>\n",
       "      <td>223.0</td>\n",
       "      <td>11.5</td>\n",
       "      <td>9.0</td>\n",
       "      <td>30</td>\n",
       "      <td>68</td>\n",
       "      <td>S</td>\n",
       "    </tr>\n",
       "    <tr>\n",
       "      <th>152</th>\n",
       "      <td>41.0</td>\n",
       "      <td>190.0</td>\n",
       "      <td>7.4</td>\n",
       "      <td>5.0</td>\n",
       "      <td>1</td>\n",
       "      <td>67</td>\n",
       "      <td>C</td>\n",
       "    </tr>\n",
       "    <tr>\n",
       "      <th>153</th>\n",
       "      <td>30.0</td>\n",
       "      <td>193.0</td>\n",
       "      <td>6.9</td>\n",
       "      <td>9.0</td>\n",
       "      <td>26</td>\n",
       "      <td>70</td>\n",
       "      <td>PS</td>\n",
       "    </tr>\n",
       "    <tr>\n",
       "      <th>154</th>\n",
       "      <td>NaN</td>\n",
       "      <td>145.0</td>\n",
       "      <td>13.2</td>\n",
       "      <td>9.0</td>\n",
       "      <td>27</td>\n",
       "      <td>77</td>\n",
       "      <td>S</td>\n",
       "    </tr>\n",
       "    <tr>\n",
       "      <th>155</th>\n",
       "      <td>18.0</td>\n",
       "      <td>131.0</td>\n",
       "      <td>8.0</td>\n",
       "      <td>9.0</td>\n",
       "      <td>29</td>\n",
       "      <td>76</td>\n",
       "      <td>C</td>\n",
       "    </tr>\n",
       "  </tbody>\n",
       "</table>\n",
       "<p>156 rows × 7 columns</p>\n",
       "</div>"
      ],
      "text/plain": [
       "     Ozone  Solar  Wind  Month  Day  Temp Weather\n",
       "0     36.0  118.0   8.0    5.0    2    72       C\n",
       "1     12.0  149.0  12.6    5.0    3    74      PS\n",
       "2     18.0  313.0  11.5    5.0    4    62       S\n",
       "3      NaN    NaN  14.3    5.0    5    56       S\n",
       "4     28.0    NaN  14.9    5.0    6    66       C\n",
       "..     ...    ...   ...    ...  ...   ...     ...\n",
       "151   20.0  223.0  11.5    9.0   30    68       S\n",
       "152   41.0  190.0   7.4    5.0    1    67       C\n",
       "153   30.0  193.0   6.9    9.0   26    70      PS\n",
       "154    NaN  145.0  13.2    9.0   27    77       S\n",
       "155   18.0  131.0   8.0    9.0   29    76       C\n",
       "\n",
       "[156 rows x 7 columns]"
      ]
     },
     "execution_count": 23,
     "metadata": {},
     "output_type": "execute_result"
    }
   ],
   "source": [
    "data = data.iloc[1:].reset_index(drop=True)\n",
    "data.drop(\"index\",axis=1,inplace=True)\n",
    "data"
   ]
  },
  {
   "cell_type": "code",
   "execution_count": 24,
   "id": "83e139a2",
   "metadata": {},
   "outputs": [
    {
     "data": {
      "application/vnd.microsoft.datawrangler.viewer.v0+json": {
       "columns": [
        {
         "name": "index",
         "rawType": "object",
         "type": "string"
        },
        {
         "name": "0",
         "rawType": "int64",
         "type": "integer"
        }
       ],
       "ref": "410aec70-c2de-4a20-946b-0d370a956ae4",
       "rows": [
        [
         "Ozone",
         "38"
        ],
        [
         "Solar",
         "7"
        ],
        [
         "Wind",
         "0"
        ],
        [
         "Month",
         "1"
        ],
        [
         "Day",
         "0"
        ],
        [
         "Temp",
         "0"
        ],
        [
         "Weather",
         "3"
        ]
       ],
       "shape": {
        "columns": 1,
        "rows": 7
       }
      },
      "text/plain": [
       "Ozone      38\n",
       "Solar       7\n",
       "Wind        0\n",
       "Month       1\n",
       "Day         0\n",
       "Temp        0\n",
       "Weather     3\n",
       "dtype: int64"
      ]
     },
     "execution_count": 24,
     "metadata": {},
     "output_type": "execute_result"
    }
   ],
   "source": [
    "data.isnull().sum()"
   ]
  },
  {
   "cell_type": "code",
   "execution_count": 25,
   "id": "4728a3d6",
   "metadata": {},
   "outputs": [
    {
     "data": {
      "text/html": [
       "<svg  width=\"440\" height=\"55\"><rect x=\"0\" y=\"0\" width=\"55\" height=\"55\" style=\"fill:#66c2a5;stroke-width:2;stroke:rgb(255,255,255)\"/><rect x=\"55\" y=\"0\" width=\"55\" height=\"55\" style=\"fill:#fc8d62;stroke-width:2;stroke:rgb(255,255,255)\"/><rect x=\"110\" y=\"0\" width=\"55\" height=\"55\" style=\"fill:#8da0cb;stroke-width:2;stroke:rgb(255,255,255)\"/><rect x=\"165\" y=\"0\" width=\"55\" height=\"55\" style=\"fill:#e78ac3;stroke-width:2;stroke:rgb(255,255,255)\"/><rect x=\"220\" y=\"0\" width=\"55\" height=\"55\" style=\"fill:#a6d854;stroke-width:2;stroke:rgb(255,255,255)\"/><rect x=\"275\" y=\"0\" width=\"55\" height=\"55\" style=\"fill:#ffd92f;stroke-width:2;stroke:rgb(255,255,255)\"/><rect x=\"330\" y=\"0\" width=\"55\" height=\"55\" style=\"fill:#e5c494;stroke-width:2;stroke:rgb(255,255,255)\"/><rect x=\"385\" y=\"0\" width=\"55\" height=\"55\" style=\"fill:#b3b3b3;stroke-width:2;stroke:rgb(255,255,255)\"/></svg>"
      ],
      "text/plain": [
       "[(0.4, 0.7607843137254902, 0.6470588235294118),\n",
       " (0.9882352941176471, 0.5529411764705883, 0.3843137254901961),\n",
       " (0.5529411764705883, 0.6274509803921569, 0.796078431372549),\n",
       " (0.9058823529411765, 0.5411764705882353, 0.7647058823529411),\n",
       " (0.6509803921568628, 0.8470588235294118, 0.32941176470588235),\n",
       " (1.0, 0.8509803921568627, 0.1843137254901961),\n",
       " (0.8980392156862745, 0.7686274509803922, 0.5803921568627451),\n",
       " (0.7019607843137254, 0.7019607843137254, 0.7019607843137254)]"
      ]
     },
     "execution_count": 25,
     "metadata": {},
     "output_type": "execute_result"
    }
   ],
   "source": [
    "sns.color_palette(\"Set2\")"
   ]
  },
  {
   "cell_type": "code",
   "execution_count": 26,
   "id": "e9e3c617",
   "metadata": {},
   "outputs": [],
   "source": [
    "data[\"Ozone\"] = data[\"Ozone\"].fillna(data[\"Ozone\"].median())"
   ]
  },
  {
   "cell_type": "code",
   "execution_count": 27,
   "id": "24d62687",
   "metadata": {},
   "outputs": [
    {
     "name": "stdout",
     "output_type": "stream",
     "text": [
      "<class 'pandas.core.frame.DataFrame'>\n",
      "RangeIndex: 156 entries, 0 to 155\n",
      "Data columns (total 7 columns):\n",
      " #   Column   Non-Null Count  Dtype   \n",
      "---  ------   --------------  -----   \n",
      " 0   Ozone    156 non-null    float64 \n",
      " 1   Solar    149 non-null    float64 \n",
      " 2   Wind     156 non-null    float64 \n",
      " 3   Month    156 non-null    float64 \n",
      " 4   Day      156 non-null    int64   \n",
      " 5   Temp     156 non-null    int64   \n",
      " 6   Weather  153 non-null    category\n",
      "dtypes: category(1), float64(4), int64(2)\n",
      "memory usage: 7.7 KB\n"
     ]
    }
   ],
   "source": [
    "data[\"Month\"] = data[\"Month\"].mode()[0]\n",
    "data.info()"
   ]
  },
  {
   "cell_type": "code",
   "execution_count": 28,
   "id": "5ff1da5c",
   "metadata": {},
   "outputs": [
    {
     "name": "stdout",
     "output_type": "stream",
     "text": [
      "<class 'pandas.core.frame.DataFrame'>\n",
      "RangeIndex: 156 entries, 0 to 155\n",
      "Data columns (total 7 columns):\n",
      " #   Column   Non-Null Count  Dtype  \n",
      "---  ------   --------------  -----  \n",
      " 0   Ozone    156 non-null    float64\n",
      " 1   Solar    149 non-null    float64\n",
      " 2   Wind     156 non-null    float64\n",
      " 3   Month    156 non-null    float64\n",
      " 4   Day      156 non-null    int64  \n",
      " 5   Temp     156 non-null    int64  \n",
      " 6   Weather  156 non-null    object \n",
      "dtypes: float64(4), int64(2), object(1)\n",
      "memory usage: 8.7+ KB\n"
     ]
    }
   ],
   "source": [
    "data[\"Weather\"] = data[\"Weather\"].mode()[0]\n",
    "data.info()"
   ]
  },
  {
   "cell_type": "code",
   "execution_count": 29,
   "id": "5a636775",
   "metadata": {},
   "outputs": [
    {
     "name": "stdout",
     "output_type": "stream",
     "text": [
      "<class 'pandas.core.frame.DataFrame'>\n",
      "RangeIndex: 156 entries, 0 to 155\n",
      "Data columns (total 7 columns):\n",
      " #   Column   Non-Null Count  Dtype  \n",
      "---  ------   --------------  -----  \n",
      " 0   Ozone    156 non-null    float64\n",
      " 1   Solar    156 non-null    float64\n",
      " 2   Wind     156 non-null    float64\n",
      " 3   Month    156 non-null    float64\n",
      " 4   Day      156 non-null    int64  \n",
      " 5   Temp     156 non-null    int64  \n",
      " 6   Weather  156 non-null    object \n",
      "dtypes: float64(4), int64(2), object(1)\n",
      "memory usage: 8.7+ KB\n"
     ]
    }
   ],
   "source": [
    "data[\"Solar\"] = data[\"Solar\"].fillna(data[\"Solar\"].mean())\n",
    "data.info()"
   ]
  },
  {
   "cell_type": "code",
   "execution_count": 30,
   "id": "826b3f1e",
   "metadata": {},
   "outputs": [
    {
     "data": {
      "application/vnd.microsoft.datawrangler.viewer.v0+json": {
       "columns": [
        {
         "name": "index",
         "rawType": "object",
         "type": "string"
        },
        {
         "name": "0",
         "rawType": "int64",
         "type": "integer"
        }
       ],
       "ref": "6f9ee21b-b15d-47ae-9059-4b1e0c65dd71",
       "rows": [
        [
         "Ozone",
         "0"
        ],
        [
         "Solar",
         "0"
        ],
        [
         "Wind",
         "0"
        ],
        [
         "Month",
         "0"
        ],
        [
         "Day",
         "0"
        ],
        [
         "Temp",
         "0"
        ],
        [
         "Weather",
         "0"
        ]
       ],
       "shape": {
        "columns": 1,
        "rows": 7
       }
      },
      "text/plain": [
       "Ozone      0\n",
       "Solar      0\n",
       "Wind       0\n",
       "Month      0\n",
       "Day        0\n",
       "Temp       0\n",
       "Weather    0\n",
       "dtype: int64"
      ]
     },
     "execution_count": 30,
     "metadata": {},
     "output_type": "execute_result"
    }
   ],
   "source": [
    "data.isnull().sum()"
   ]
  },
  {
   "cell_type": "code",
   "execution_count": 31,
   "id": "cea70cc8",
   "metadata": {},
   "outputs": [
    {
     "data": {
      "image/png": "[encoded data removed]",
      "text/plain": [
       "<Figure size 640x480 with 1 Axes>"
      ]
     },
     "metadata": {},
     "output_type": "display_data"
    }
   ],
   "source": [
    "plt.boxplot(data['Ozone'])\n",
    "plt.show()"
   ]
  },
  {
   "cell_type": "code",
   "execution_count": 35,
   "id": "49ae2c90",
   "metadata": {},
   "outputs": [
    {
     "name": "stdout",
     "output_type": "stream",
     "text": [
      "whiskers [<matplotlib.lines.Line2D object at 0x000001D6C27C9810>, <matplotlib.lines.Line2D object at 0x000001D6C27CA210>]\n",
      "caps [<matplotlib.lines.Line2D object at 0x000001D6C27CAA90>, <matplotlib.lines.Line2D object at 0x000001D6C27CB450>]\n",
      "boxes [<matplotlib.lines.Line2D object at 0x000001D6C27C8F90>]\n",
      "medians [<matplotlib.lines.Line2D object at 0x000001D6C27CBE50>]\n",
      "fliers [<matplotlib.lines.Line2D object at 0x000001D6C27D8710>]\n",
      "means []\n"
     ]
    },
    {
     "data": {
      "image/png": "[encoded data removed]",
      "text/plain": [
       "<Figure size 640x480 with 1 Axes>"
      ]
     },
     "metadata": {},
     "output_type": "display_data"
    }
   ],
   "source": [
    "box = plt.boxplot(data['Ozone'])\n",
    "\n",
    "for i,j in box.items():\n",
    "    print(i,j)"
   ]
  },
  {
   "cell_type": "code",
   "execution_count": 36,
   "id": "de9c48f6",
   "metadata": {},
   "outputs": [
    {
     "data": {
      "text/plain": [
       "[array([115., 135.,  97.,  97.,  85., 108.,  82., 122.,  89., 110., 168.,\n",
       "        118.,  84.,  85.,  96.,  91.])]"
      ]
     },
     "execution_count": 36,
     "metadata": {},
     "output_type": "execute_result"
    }
   ],
   "source": [
    "out = []\n",
    "\n",
    "for item in box[\"fliers\"]:\n",
    "    out.append(item.get_ydata())\n",
    "\n",
    "out"
   ]
  },
  {
   "cell_type": "code",
   "execution_count": 38,
   "id": "24f0e09b",
   "metadata": {},
   "outputs": [
    {
     "data": {
      "application/vnd.microsoft.datawrangler.viewer.v0+json": {
       "columns": [
        {
         "name": "index",
         "rawType": "int64",
         "type": "integer"
        },
        {
         "name": "Ozone",
         "rawType": "float64",
         "type": "float"
        }
       ],
       "ref": "046e9e78-7816-479d-8bcf-42c10a7accf3",
       "rows": [
        [
         "0",
         "36.0"
        ],
        [
         "1",
         "12.0"
        ],
        [
         "2",
         "18.0"
        ],
        [
         "3",
         "30.5"
        ],
        [
         "4",
         "28.0"
        ],
        [
         "5",
         "23.0"
        ],
        [
         "6",
         "19.0"
        ],
        [
         "7",
         "8.0"
        ],
        [
         "8",
         "30.5"
        ],
        [
         "9",
         "7.0"
        ],
        [
         "10",
         "16.0"
        ],
        [
         "11",
         "11.0"
        ],
        [
         "12",
         "14.0"
        ],
        [
         "13",
         "18.0"
        ],
        [
         "14",
         "14.0"
        ],
        [
         "15",
         "34.0"
        ],
        [
         "16",
         "6.0"
        ],
        [
         "17",
         "30.0"
        ],
        [
         "18",
         "11.0"
        ],
        [
         "19",
         "1.0"
        ],
        [
         "20",
         "11.0"
        ],
        [
         "21",
         "4.0"
        ],
        [
         "22",
         "32.0"
        ],
        [
         "23",
         "30.5"
        ],
        [
         "24",
         "30.5"
        ],
        [
         "25",
         "30.5"
        ],
        [
         "26",
         "23.0"
        ],
        [
         "27",
         "45.0"
        ],
        [
         "28",
         "80.0"
        ],
        [
         "29",
         "37.0"
        ],
        [
         "30",
         "30.5"
        ],
        [
         "31",
         "30.5"
        ],
        [
         "32",
         "30.5"
        ],
        [
         "33",
         "30.5"
        ],
        [
         "34",
         "30.5"
        ],
        [
         "35",
         "30.5"
        ],
        [
         "36",
         "29.0"
        ],
        [
         "37",
         "30.5"
        ],
        [
         "38",
         "71.0"
        ],
        [
         "39",
         "39.0"
        ],
        [
         "40",
         "30.5"
        ],
        [
         "41",
         "30.5"
        ],
        [
         "42",
         "23.0"
        ],
        [
         "43",
         "30.5"
        ],
        [
         "44",
         "30.5"
        ],
        [
         "45",
         "21.0"
        ],
        [
         "46",
         "37.0"
        ],
        [
         "47",
         "20.0"
        ],
        [
         "48",
         "12.0"
        ],
        [
         "49",
         "13.0"
        ]
       ],
       "shape": {
        "columns": 1,
        "rows": 156
       }
      },
      "text/plain": [
       "0      36.0\n",
       "1      12.0\n",
       "2      18.0\n",
       "3      30.5\n",
       "4      28.0\n",
       "       ... \n",
       "151    20.0\n",
       "152    41.0\n",
       "153    30.0\n",
       "154    30.5\n",
       "155    18.0\n",
       "Name: Ozone, Length: 156, dtype: float64"
      ]
     },
     "execution_count": 38,
     "metadata": {},
     "output_type": "execute_result"
    }
   ],
   "source": [
    "data[data['Ozone']>80] = 80\n",
    "data['Ozone']"
   ]
  },
  {
   "cell_type": "code",
   "execution_count": 40,
   "id": "7236fd37",
   "metadata": {},
   "outputs": [
    {
     "data": {
      "image/png": "[encoded data removed]",
      "text/plain": [
       "<Figure size 640x480 with 1 Axes>"
      ]
     },
     "metadata": {},
     "output_type": "display_data"
    }
   ],
   "source": [
    "plt.boxplot(data['Ozone'])\n",
    "plt.show()"
   ]
  }
 ],
 "metadata": {
  "kernelspec": {
   "display_name": "Python 3",
   "language": "python",
   "name": "python3"
  },
  "language_info": {
   "codemirror_mode": {
    "name": "ipython",
    "version": 3
   },
   "file_extension": ".py",
   "mimetype": "text/x-python",
   "name": "python",
   "nbconvert_exporter": "python",
   "pygments_lexer": "ipython3",
   "version": "3.11.9"
  }
 },
 "nbformat": 4,
 "nbformat_minor": 5
}
